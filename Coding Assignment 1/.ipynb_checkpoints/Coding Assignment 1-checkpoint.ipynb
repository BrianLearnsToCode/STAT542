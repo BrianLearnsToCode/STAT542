{
 "cells": [
  {
   "cell_type": "code",
   "execution_count": 1,
   "id": "d2cc42d4",
   "metadata": {},
   "outputs": [],
   "source": [
    "import numpy as np\n",
    "import matplotlib.pyplot as plt\n",
    "from sklearn.neighbors import KNeighborsClassifier as knn\n",
    "from sklearn import linear_model as lm"
   ]
  },
  {
   "cell_type": "markdown",
   "id": "cd9a408a",
   "metadata": {},
   "source": [
    "## Authors: Wenbo Fu (679744457), Bingyan Liu(668046518)"
   ]
  },
  {
   "cell_type": "markdown",
   "id": "8f740a78",
   "metadata": {},
   "source": [
    "# Part I Generate Data"
   ]
  },
  {
   "cell_type": "markdown",
   "id": "cd4fd88f",
   "metadata": {},
   "source": [
    "First generate the 20 centers from two-dimensional normal. You can use any mean and covariance structure.  You should not regenerate the centers. Use these 20 centers throughout this simulation study.\n",
    "\n",
    "Given the 20 centers, generate a training sample of size 200 (100 from each class) and a test sample of size 10,000 (5,000 from each class).\n",
    "\n",
    "Produce a scatter plot of the training data:\n",
    "\n",
    "assign different colors to the two classes of data points;\n",
    "overlay the 20 centers on this scatter plot, using a distinguishing marker (e.g., a star or a different shape) and color them according to their respective class."
   ]
  },
  {
   "cell_type": "markdown",
   "id": "9f06492e",
   "metadata": {},
   "source": [
    "Generate the 20 centers, 10 for each group"
   ]
  },
  {
   "cell_type": "code",
   "execution_count": 2,
   "id": "1f2217c7",
   "metadata": {},
   "outputs": [],
   "source": [
    "np.random.seed(4457)\n",
    "\n",
    "csize = 10      \n",
    "p = 2      \n",
    "s = 1;      # sd for generating the centers within each class                    \n",
    "m1 = np.random.normal(size = (csize, p)) * s \\\n",
    "     + np.concatenate([np.array([[1, 0]] * csize)])\n",
    "m0 = np.random.normal(size = (csize, p)) * s \\\n",
    "     + np.concatenate([np.array([[0, 1]] * csize)])"
   ]
  },
  {
   "cell_type": "markdown",
   "id": "71643cd2",
   "metadata": {},
   "source": [
    "Generate training data"
   ]
  },
  {
   "cell_type": "code",
   "execution_count": 3,
   "id": "ff3463dc",
   "metadata": {},
   "outputs": [],
   "source": [
    "n_train = 100\n",
    "\n",
    "# Randomly allocate the n samples for class 1  to the 10 clusters\n",
    "id1 = np.random.randint(csize, size = n_train)\n",
    "id0 = np.random.randint(csize, size = n_train)\n",
    "\n",
    "# sd for generating data  \n",
    "s = np.sqrt(float(1)/5) \n",
    "\n",
    "train_x = np.random.normal(size = (2 * n_train, p)) * s \\\n",
    "            + np.concatenate([m1[id1,:], m0[id0,:]])\n",
    "train_y = np.concatenate(([1]*n_train, [0]*n_train))"
   ]
  },
  {
   "cell_type": "code",
   "execution_count": null,
   "id": "7d3dcc93",
   "metadata": {},
   "outputs": [],
   "source": []
  },
  {
   "cell_type": "markdown",
   "id": "7cdec4a4",
   "metadata": {},
   "source": [
    "Generate test data"
   ]
  },
  {
   "cell_type": "code",
   "execution_count": 4,
   "id": "b189189f",
   "metadata": {},
   "outputs": [],
   "source": [
    "n_test = 5000\n",
    "\n",
    "# Randomly allocate the n samples for class 1  to the 10 clusters\n",
    "id1 = np.random.randint(csize, size = n_test)\n",
    "id0 = np.random.randint(csize, size = n_test)\n",
    "\n",
    "# sd for generating data  \n",
    "s = np.sqrt(float(1)/5) \n",
    "\n",
    "test_x = np.random.normal(size = (2 * n_test, p)) * s \\\n",
    "            + np.concatenate([m1[id1,:], m0[id0,:]])\n",
    "test_y = np.concatenate(([1]*n_test, [0]*n_test))"
   ]
  },
  {
   "cell_type": "markdown",
   "id": "7a3f3b7b",
   "metadata": {},
   "source": [
    "Visualization"
   ]
  },
  {
   "cell_type": "code",
   "execution_count": 5,
   "id": "0f77191f",
   "metadata": {},
   "outputs": [
    {
     "data": {
      "image/png": "[encoded data removed]",
      "text/plain": [
       "<Figure size 432x288 with 1 Axes>"
      ]
     },
     "metadata": {
      "needs_background": "light"
     },
     "output_type": "display_data"
    }
   ],
   "source": [
    "plt.scatter(train_x[:n_train, 0], train_x[:n_train, 1], c = \"blue\", alpha=0.2, label='Class 1')\n",
    "plt.scatter(train_x[n_train:, 0], train_x[n_train:, 1], c = \"red\", alpha=0.2, label='Class 0')\n",
    "\n",
    "plt.scatter(m1[:,0], m1[:,1], marker = '+', s = 100, c = \"blue\")\n",
    "plt.scatter(m0[:,0], m0[:,1], marker = '+', s = 100, c = \"red\")\n",
    "\n",
    "plt.legend()\n",
    "plt.show()"
   ]
  },
  {
   "cell_type": "markdown",
   "id": "f075dfad",
   "metadata": {},
   "source": [
    "# Part II: kNN"
   ]
  },
  {
   "cell_type": "markdown",
   "id": "7ebaf657",
   "metadata": {},
   "source": [
    "Implement kNN from scratch; use Euclidean Distance. Your implementation should meet the following requirements:\n",
    "\n",
    "Input: Your kNN function should accept three input parameters: training data, test data, and k. No need to write your kNN function to handle any general input; it suffices to write a function that is able to handle the data for this specific simulation study: binary classification; features are two-dimensional numerical vectors.\n",
    "Output: Your function should return a vector of predictions for the test data.\n",
    "Vectorization: Efficiently compute distances between all test points and training points simultaneously. Make predictions for all test points in a single operation.\n",
    "No Loops: Do not use explicit loops like for or while inside your kNN function to compute distances or make predictions. Instead, harness the power of vectorized operations for efficient computations. For example, you can use broadcasting in Numpy or command outer in R.\n",
    "Explain how you handle distance ties and voting ties;\n",
    "\n",
    "distance ties may occur when you have multiple (training) observations that are equidistant from a test observation.\n",
    "voting ties may occur when K is an even number and you have 50% of the k-nearest-neighbors from each of the two classes.\n",
    "Test your code with the training/test data you just generated when K = 1, 3, 5; and compare your results with knn in R or sklearn.neighbors in Python.\n",
    "\n",
    "Report your results (on the test data) as a 2-by-2 table (confusion matrix) for each K value.\n",
    "Report the results from knn or sklearn.neighbors as a 2-by-2 table (confusion matrix) for each K value."
   ]
  },
  {
   "cell_type": "markdown",
   "id": "2adea934",
   "metadata": {},
   "source": [
    "Define myknn:\n",
    "If distance ties, it will return based the original sample order, but this won't appear as the locations are random;\n",
    "If votes ties, it will always return 0 class"
   ]
  },
  {
   "cell_type": "code",
   "execution_count": 6,
   "id": "b49bf21e",
   "metadata": {},
   "outputs": [],
   "source": [
    "class myknn:\n",
    "    def __init__(self, train_x, train_y, test_x, k):\n",
    "        #train_x.shape = (n, p)\n",
    "        #train_y.shape = (n, 1)\n",
    "        #test_x.shape = (m, p)\n",
    "        self.train_x = train_x\n",
    "        n = train_y.shape[0]\n",
    "        self.train_y = train_y.reshape(n,1)\n",
    "        self.test_x = test_x\n",
    "        self.k = k\n",
    "    \n",
    "    def fit(self):\n",
    "        (n,p) = train_x.shape\n",
    "        (m,p) = test_x.shape\n",
    "        u = np.sum(self.train_x**2,axis=1)\n",
    "        v = np.sum(self.test_x**2,axis=1)\n",
    "        A = np.tile(u,(m,1)).T\n",
    "        B = np.tile(v,(n,1))\n",
    "        C= np.dot(self.train_x,self.test_x.T)\n",
    "        # self.distance matrix shape (n,m)\n",
    "        self.distance = A + B -2*C \n",
    "        Y_label = np.tile(self.train_y,(1,m))\n",
    "        # sort the distance\n",
    "        sorted_indices = np.argsort(self.distance,axis = 0)\n",
    "        new_Y_label = np.take_along_axis(Y_label,sorted_indices,axis = 0)\n",
    "        most_common_values = np.apply_along_axis(lambda x: np.bincount(x).argmax(), axis=0, arr=new_Y_label[:k,:])\n",
    "        \n",
    "        return most_common_values    "
   ]
  },
  {
   "cell_type": "markdown",
   "id": "ca5fb741",
   "metadata": {},
   "source": [
    "Compare with the sklearn buildin knn function in the case k = 1/3/5"
   ]
  },
  {
   "cell_type": "code",
   "execution_count": 7,
   "id": "bbeb0cc8",
   "metadata": {},
   "outputs": [],
   "source": [
    "from sklearn.neighbors import KNeighborsClassifier\n",
    "from sklearn.metrics import confusion_matrix"
   ]
  },
  {
   "cell_type": "code",
   "execution_count": 8,
   "id": "8d6fddcf",
   "metadata": {},
   "outputs": [
    {
     "name": "stdout",
     "output_type": "stream",
     "text": [
      "[[3931 1069]\n",
      " [1315 3685]]\n",
      "[[3931 1069]\n",
      " [1315 3685]]\n"
     ]
    }
   ],
   "source": [
    "k = 1\n",
    "knn = myknn(train_x,train_y,test_x,k)\n",
    "prediction = knn.fit()\n",
    "neigh = KNeighborsClassifier(n_neighbors=k)\n",
    "neigh.fit(train_x, train_y)\n",
    "prediction_sklearn = neigh.predict(test_x)\n",
    "cm = confusion_matrix(test_y, prediction)\n",
    "cm_sklearn = confusion_matrix(test_y, prediction_sklearn)\n",
    "print(cm)\n",
    "print(cm_sklearn)"
   ]
  },
  {
   "cell_type": "code",
   "execution_count": 9,
   "id": "dec13661",
   "metadata": {},
   "outputs": [
    {
     "name": "stdout",
     "output_type": "stream",
     "text": [
      "[[3939 1061]\n",
      " [ 968 4032]]\n",
      "[[3939 1061]\n",
      " [ 968 4032]]\n"
     ]
    }
   ],
   "source": [
    "k = 3\n",
    "knn = myknn(train_x,train_y,test_x,k)\n",
    "prediction = knn.fit()\n",
    "neigh = KNeighborsClassifier(n_neighbors=k)\n",
    "neigh.fit(train_x, train_y)\n",
    "prediction_sklearn = neigh.predict(test_x)\n",
    "cm = confusion_matrix(test_y, prediction)\n",
    "cm_sklearn = confusion_matrix(test_y, prediction_sklearn)\n",
    "print(cm)\n",
    "print(cm_sklearn)"
   ]
  },
  {
   "cell_type": "code",
   "execution_count": 10,
   "id": "aca37ea4",
   "metadata": {},
   "outputs": [
    {
     "name": "stdout",
     "output_type": "stream",
     "text": [
      "[[3942 1058]\n",
      " [ 902 4098]]\n",
      "[[3942 1058]\n",
      " [ 902 4098]]\n"
     ]
    }
   ],
   "source": [
    "k = 5\n",
    "knn = myknn(train_x,train_y,test_x,k)\n",
    "prediction = knn.fit()\n",
    "neigh = KNeighborsClassifier(n_neighbors=k)\n",
    "neigh.fit(train_x, train_y)\n",
    "prediction_sklearn = neigh.predict(test_x)\n",
    "cm = confusion_matrix(test_y, prediction)\n",
    "cm_sklearn = confusion_matrix(test_y, prediction_sklearn)\n",
    "print(cm)\n",
    "print(cm_sklearn)"
   ]
  },
  {
   "cell_type": "markdown",
   "id": "4e85a30a",
   "metadata": {},
   "source": [
    "# Part III: cvkNN"
   ]
  },
  {
   "cell_type": "markdown",
   "id": "dd2fc834",
   "metadata": {},
   "source": [
    "Implement KNN classification with K chosen by 10-fold cross-validation from scratch.\n",
    "\n",
    "Set the candidate K values from 1 to 180.\n",
    "From now on, you are allowed to use the built-in kNN function from R or Python instead of your own implementation from Part 2.\n",
    "It is possible that multiple K values give the (same) smallest CV error; when this happens, pick the largest K value among them, since the larger the K value, the simpler the model.\n",
    "Test your code with the training/test data you just generated. Report your results (on the test data) as a 2-by-2 table and also report the value of the selected K."
   ]
  },
  {
   "cell_type": "code",
   "execution_count": 11,
   "id": "104ff6b0",
   "metadata": {},
   "outputs": [
    {
     "data": {
      "text/plain": [
       "array([0.235, 0.26 , 0.205, 0.2  , 0.195, 0.185, 0.15 , 0.16 , 0.14 ,\n",
       "       0.17 , 0.165, 0.165, 0.145, 0.15 , 0.155, 0.145, 0.155, 0.165,\n",
       "       0.155, 0.16 , 0.17 , 0.17 , 0.16 , 0.175, 0.195, 0.175, 0.195,\n",
       "       0.195, 0.19 , 0.195, 0.19 , 0.185, 0.195, 0.19 , 0.195, 0.19 ,\n",
       "       0.195, 0.19 , 0.19 , 0.185, 0.19 , 0.185, 0.185, 0.19 , 0.185,\n",
       "       0.185, 0.175, 0.18 , 0.175, 0.18 , 0.18 , 0.18 , 0.18 , 0.18 ,\n",
       "       0.195, 0.19 , 0.195, 0.195, 0.21 , 0.2  , 0.2  , 0.2  , 0.195,\n",
       "       0.19 , 0.195, 0.2  , 0.195, 0.2  , 0.205, 0.195, 0.2  , 0.19 ,\n",
       "       0.19 , 0.185, 0.195, 0.185, 0.2  , 0.2  , 0.205, 0.195, 0.195,\n",
       "       0.195, 0.195, 0.195, 0.195, 0.205, 0.2  , 0.2  , 0.2  , 0.205,\n",
       "       0.2  , 0.205, 0.215, 0.21 , 0.21 , 0.205, 0.205, 0.2  , 0.215,\n",
       "       0.21 , 0.215, 0.22 , 0.22 , 0.22 , 0.22 , 0.215, 0.215, 0.22 ,\n",
       "       0.21 , 0.215, 0.22 , 0.22 , 0.225, 0.22 , 0.21 , 0.205, 0.215,\n",
       "       0.205, 0.215, 0.22 , 0.225, 0.215, 0.215, 0.215, 0.215, 0.215,\n",
       "       0.22 , 0.22 , 0.23 , 0.23 , 0.235, 0.23 , 0.23 , 0.22 , 0.23 ,\n",
       "       0.23 , 0.23 , 0.225, 0.23 , 0.22 , 0.225, 0.215, 0.23 , 0.215,\n",
       "       0.23 , 0.21 , 0.215, 0.22 , 0.215, 0.22 , 0.22 , 0.215, 0.22 ,\n",
       "       0.225, 0.225, 0.25 , 0.25 , 0.25 , 0.265, 0.285, 0.285, 0.29 ,\n",
       "       0.29 , 0.295, 0.3  , 0.32 , 0.33 , 0.35 , 0.36 , 0.35 , 0.365,\n",
       "       0.4  , 0.4  , 0.4  , 0.46 , 0.44 , 0.515, 0.55 , 0.62 , 0.62 ])"
      ]
     },
     "execution_count": 11,
     "metadata": {},
     "output_type": "execute_result"
    }
   ],
   "source": [
    "myk = range(1,181)\n",
    "num_folds = 10\n",
    "n = len(train_y)\n",
    "m = len(myk)\n",
    "cverr = np.zeros(m)\n",
    "\n",
    "indices = np.arange(n)\n",
    "np.random.shuffle(indices)\n",
    "index_sets = np.array_split(indices, num_folds)\n",
    "\n",
    "for ifold in range(num_folds):\n",
    "    train_indices =  np.delete(index_sets, obj=ifold, axis=0).ravel()\n",
    "    _traindata = train_x[train_indices]\n",
    "    _Ytrain = train_y[train_indices]\n",
    "    \n",
    "    test_indices = index_sets[ifold]\n",
    "    _testdata = train_x[test_indices]\n",
    "    _Ytest = train_y[test_indices]\n",
    "   \n",
    "    for j in range(m):\n",
    "        K = myk[j]\n",
    "        knn_model = KNeighborsClassifier(K)\n",
    "        knn_model.fit(_traindata, _Ytrain)\n",
    "        predict_Y = knn_model.predict(_testdata)\n",
    "        cverr[j] += sum(predict_Y != _Ytest)\n",
    "    \n",
    "cverr /= float(n)\n",
    "cverr"
   ]
  },
  {
   "cell_type": "code",
   "execution_count": 12,
   "id": "4842620a",
   "metadata": {},
   "outputs": [
    {
     "name": "stdout",
     "output_type": "stream",
     "text": [
      "[[3898 1102]\n",
      " [ 849 4151]]\n"
     ]
    }
   ],
   "source": [
    "k_selected = np.argmin(cverr)+1\n",
    "neigh = KNeighborsClassifier(n_neighbors=k_selected)\n",
    "neigh.fit(train_x, train_y)\n",
    "prediction_sklearn = neigh.predict(test_x)\n",
    "cm_selected = confusion_matrix(test_y, prediction_sklearn)\n",
    "print(cm_selected)"
   ]
  },
  {
   "cell_type": "code",
   "execution_count": null,
   "id": "bafe9b17",
   "metadata": {},
   "outputs": [],
   "source": []
  },
  {
   "cell_type": "markdown",
   "id": "10e39a91",
   "metadata": {},
   "source": [
    "# Part IV: Bayes Rule"
   ]
  },
  {
   "cell_type": "markdown",
   "id": "ccc35be5",
   "metadata": {},
   "source": [
    "Implement the Bayes rule. Your implementation should meet the following requirements:\n",
    "Do not use explicit loops over the test sample size (10,000 or 5,000).\n",
    "You are allowed to use loops over the number of centers (10 or 20), although you can avoid all loops.\n",
    "Test your code with the test data you just generated. (Note that you do not need training data for the Bayes rule.) Report your results (on the test data) as a 2-by-2 table."
   ]
  },
  {
   "cell_type": "code",
   "execution_count": 13,
   "id": "5592cc01",
   "metadata": {},
   "outputs": [],
   "source": [
    "m0_reshaped = m0[:,np.newaxis,:]\n",
    "m1_reshaped = m1[:,np.newaxis,:]\n",
    "test_x_reshaped = test_x[np.newaxis,:,:]"
   ]
  },
  {
   "cell_type": "code",
   "execution_count": 14,
   "id": "31ad0d80",
   "metadata": {},
   "outputs": [],
   "source": [
    "Bayes_pred = np.where(np.sum(np.exp(-np.sum((m1_reshaped - test_x_reshaped)**2/(2*s**2), axis=2)),axis=0)\\\n",
    "         /np.sum(np.exp(-np.sum((m0_reshaped - test_x_reshaped)**2/(2*s**2), axis=2)),axis=0) > 1,1,0)"
   ]
  },
  {
   "cell_type": "code",
   "execution_count": 15,
   "id": "24d5a5d7",
   "metadata": {},
   "outputs": [
    {
     "name": "stdout",
     "output_type": "stream",
     "text": [
      "[[3903 1097]\n",
      " [ 697 4303]]\n"
     ]
    }
   ],
   "source": [
    "cm_Bayes = confusion_matrix(test_y, Bayes_pred)\n",
    "print(cm_Bayes)"
   ]
  },
  {
   "cell_type": "code",
   "execution_count": null,
   "id": "f234b62f",
   "metadata": {},
   "outputs": [],
   "source": []
  },
  {
   "cell_type": "markdown",
   "id": "9f48a4c2",
   "metadata": {},
   "source": [
    "# Part V: Simulation Study"
   ]
  },
  {
   "cell_type": "markdown",
   "id": "ca6c5672",
   "metadata": {},
   "source": [
    "Given the 20 centers generated in Part 1, repeatedly generate 50 training/test datasets (training size = 200 and test size = 10,000). For each pair of training/test datasets, calculate the test errors (the averaged 0/1 loss on the test data set) for each of the following three procedures:\n",
    "\n",
    "kNN with K = 7 (you can use the built-in kNN function from R or Python);\n",
    "kNN with K chosen by 10-fold CV (your implementation from Part 3); and\n",
    "the Bayes rule (your implementation from Part 4).\n",
    "Present the test errors graphically, e.g., using a boxplot or strip chart (see below). Also, report the (min, max, median, 25% quantile, 75% quantile) for the 50 selected K values."
   ]
  },
  {
   "cell_type": "code",
   "execution_count": 16,
   "id": "28d3b1b5",
   "metadata": {},
   "outputs": [],
   "source": [
    "#select_best_k is a function to find bese k from 10-fold cv knn\n",
    "def select_best_k(train_x,train_y):\n",
    "    myk = range(1,181)\n",
    "    num_folds = 10\n",
    "    n = len(train_y)\n",
    "    m = len(myk)\n",
    "    cverr = np.zeros(m)\n",
    "\n",
    "    indices = np.arange(n)\n",
    "    np.random.shuffle(indices)\n",
    "    index_sets = np.array_split(indices, num_folds)\n",
    "\n",
    "    for ifold in range(num_folds):\n",
    "        train_indices =  np.delete(index_sets, obj=ifold, axis=0).ravel()\n",
    "        _traindata = train_x[train_indices]\n",
    "        _Ytrain = train_y[train_indices]\n",
    "\n",
    "        test_indices = index_sets[ifold]\n",
    "        _testdata = train_x[test_indices]\n",
    "        _Ytest = train_y[test_indices]\n",
    "\n",
    "        for j in range(m):\n",
    "            K = myk[j]\n",
    "            knn_model = KNeighborsClassifier(K)\n",
    "            knn_model.fit(_traindata, _Ytrain)\n",
    "            predict_Y = knn_model.predict(_testdata)\n",
    "            cverr[j] += sum(predict_Y != _Ytest)\n",
    "\n",
    "    cverr /= float(n)\n",
    "    return myk[np.argmin(cverr)]"
   ]
  },
  {
   "cell_type": "code",
   "execution_count": 17,
   "id": "d58f6288",
   "metadata": {},
   "outputs": [
    {
     "name": "stdout",
     "output_type": "stream",
     "text": [
      "finish evluation iteration 0\n",
      "finish evluation iteration 5\n",
      "finish evluation iteration 10\n",
      "finish evluation iteration 15\n",
      "finish evluation iteration 20\n",
      "finish evluation iteration 25\n",
      "finish evluation iteration 30\n",
      "finish evluation iteration 35\n",
      "finish evluation iteration 40\n",
      "finish evluation iteration 45\n",
      "Elapsed time: 53.147225 seconds\n"
     ]
    }
   ],
   "source": [
    "import time\n",
    "\n",
    "itr = 50\n",
    "knn_7_error = []\n",
    "knn_selected = []\n",
    "knn_selected_error = []\n",
    "bayes_error = []\n",
    "\n",
    "start_time = time.time()\n",
    "for it in range(itr):\n",
    "    # create training data\n",
    "    id1 = np.random.randint(csize, size = n_train)\n",
    "    id0 = np.random.randint(csize, size = n_train)\n",
    "    s = np.sqrt(float(1)/5) \n",
    "    train_x = np.random.normal(size = (2 * n_train, p)) * s \\\n",
    "                + np.concatenate([m1[id1,:], m0[id0,:]])\n",
    "    train_y = np.concatenate(([1]*n_train, [0]*n_train))\n",
    "    \n",
    "    # creat test data\n",
    "    id1 = np.random.randint(csize, size = n_test)\n",
    "    id0 = np.random.randint(csize, size = n_test)\n",
    "    s = np.sqrt(float(1)/5) \n",
    "    test_x = np.random.normal(size = (2 * n_test, p)) * s \\\n",
    "                + np.concatenate([m1[id1,:], m0[id0,:]])\n",
    "    test_y = np.concatenate(([1]*n_test, [0]*n_test))\n",
    "    \n",
    "    # model performance for k = 7 knn\n",
    "    knn_7_model = KNeighborsClassifier(7)\n",
    "    knn_7_model.fit(train_x, train_y)\n",
    "    predict_Y_7 = knn_7_model.predict(test_x)\n",
    "    error = sum(predict_Y_7 != test_y)/float(10000)\n",
    "    knn_7_error.append(error)\n",
    "    \n",
    "    # model performance for k = k_best knn\n",
    "    k_selected = select_best_k(train_x,train_y)\n",
    "    knn_selected.append(k_selected)\n",
    "    knn_selected_model = KNeighborsClassifier(k_selected)\n",
    "    knn_selected_model.fit(train_x, train_y)\n",
    "    predict_Y_selected = knn_selected_model.predict(test_x)\n",
    "    error = sum(predict_Y_selected != test_y)/float(10000)\n",
    "    knn_selected_error.append(error)\n",
    "    \n",
    "    # model performance for bayes\n",
    "    test_x_reshaped = test_x[np.newaxis,:,:]\n",
    "    bayes_Y_pred = np.where(np.sum(np.exp(-np.sum((m1_reshaped - test_x_reshaped)**2/(2*s**2), axis=2)),axis=0)\\\n",
    "         /np.sum(np.exp(-np.sum((m0_reshaped - test_x_reshaped)**2/(2*s**2), axis=2)),axis=0) > 1,1,0)    \n",
    "    error = sum(bayes_Y_pred != test_y)/float(10000)\n",
    "    bayes_error.append(error)\n",
    "    if it%5 == 0:\n",
    "        print(f\"finish evluation iteration {it}\")\n",
    "end_time = time.time()\n",
    "elapsed_time = end_time - start_time\n",
    "print(f\"Elapsed time: {elapsed_time:.6f} seconds\")"
   ]
  },
  {
   "cell_type": "code",
   "execution_count": 18,
   "id": "28e1ca69",
   "metadata": {},
   "outputs": [
    {
     "data": {
      "image/png": "[encoded data removed]",
      "text/plain": [
       "<Figure size 432x288 with 1 Axes>"
      ]
     },
     "metadata": {
      "needs_background": "light"
     },
     "output_type": "display_data"
    }
   ],
   "source": [
    "plt.boxplot([knn_7_error, knn_selected_error, bayes_error])\n",
    "plt.xticks([1, 2, 3], ['k=7 knn', 'best k knn', 'Bayes'])\n",
    "plt.ylabel('test error')\n",
    "plt.title('Test error with different classification method')\n",
    "plt.show()"
   ]
  },
  {
   "cell_type": "code",
   "execution_count": 19,
   "id": "e1bf272a",
   "metadata": {},
   "outputs": [
    {
     "name": "stdout",
     "output_type": "stream",
     "text": [
      "best k values statistics\n",
      "Minimum: 1\n",
      "Maximum: 123\n",
      "Median: 10.5\n",
      "25th Percentile (Q1): 5.0\n",
      "75th Percentile (Q3): 18.5\n"
     ]
    }
   ],
   "source": [
    "minimum = np.min(knn_selected)\n",
    "maximum = np.max(knn_selected)\n",
    "median = np.median(knn_selected)\n",
    "q1 = np.percentile(knn_selected, 25)\n",
    "q3 = np.percentile(knn_selected, 75)\n",
    "\n",
    "print('best k values statistics')\n",
    "print(f\"Minimum: {minimum}\")\n",
    "print(f\"Maximum: {maximum}\")\n",
    "print(f\"Median: {median}\")\n",
    "print(f\"25th Percentile (Q1): {q1}\")\n",
    "print(f\"75th Percentile (Q3): {q3}\")"
   ]
  },
  {
   "cell_type": "code",
   "execution_count": null,
   "id": "bc8a26dd",
   "metadata": {},
   "outputs": [],
   "source": []
  }
 ],
 "metadata": {
  "kernelspec": {
   "display_name": "Python 3 (ipykernel)",
   "language": "python",
   "name": "python3"
  },
  "language_info": {
   "codemirror_mode": {
    "name": "ipython",
    "version": 3
   },
   "file_extension": ".py",
   "mimetype": "text/x-python",
   "name": "python",
   "nbconvert_exporter": "python",
   "pygments_lexer": "ipython3",
   "version": "3.8.10"
  }
 },
 "nbformat": 4,
 "nbformat_minor": 5
}
