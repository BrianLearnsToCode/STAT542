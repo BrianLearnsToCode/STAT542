{
 "cells": [
  {
   "cell_type": "markdown",
   "id": "5493bd23",
   "metadata": {},
   "source": [
    "# Authors: Wenbo Fu (679744457), Bingyan Liu(668046518)\n",
    "Both authors contribute equally"
   ]
  },
  {
   "cell_type": "code",
   "execution_count": 98,
   "id": "5a778ecb",
   "metadata": {},
   "outputs": [],
   "source": [
    "import pandas as pd\n",
    "import numpy as np\n",
    "\n",
    "from sklearn.metrics import confusion_matrix\n",
    "import random"
   ]
  },
  {
   "cell_type": "code",
   "execution_count": null,
   "id": "6bbe5352",
   "metadata": {},
   "outputs": [],
   "source": []
  },
  {
   "cell_type": "code",
   "execution_count": 99,
   "id": "e870b125",
   "metadata": {},
   "outputs": [],
   "source": [
    "train = pd.read_csv('coding5_train.csv')\n",
    "test = pd.read_csv('coding5_test.csv')"
   ]
  },
  {
   "cell_type": "code",
   "execution_count": 100,
   "id": "1cf52fe7",
   "metadata": {},
   "outputs": [],
   "source": [
    "train['Y'] = 2*(train['Y'] - 5.5)\n",
    "test['Y'] = 2*(test['Y'] - 5.5)"
   ]
  },
  {
   "cell_type": "code",
   "execution_count": 101,
   "id": "5f3dc958",
   "metadata": {},
   "outputs": [],
   "source": [
    "X_train = train.iloc[:,:-1].to_numpy()\n",
    "y_train = train.iloc[:,-1]\n",
    "\n",
    "X_test = test.iloc[:,:-1].to_numpy()\n",
    "y_test = test.iloc[:,-1]"
   ]
  },
  {
   "cell_type": "code",
   "execution_count": null,
   "id": "32519d38",
   "metadata": {},
   "outputs": [],
   "source": []
  },
  {
   "cell_type": "code",
   "execution_count": null,
   "id": "819aee20",
   "metadata": {},
   "outputs": [],
   "source": []
  },
  {
   "cell_type": "code",
   "execution_count": 102,
   "id": "519e7e9b",
   "metadata": {},
   "outputs": [],
   "source": [
    "def pagaso(X_train, y_train, T=20, lmba=1):\n",
    "    n,m = X_train.shape\n",
    "    beta = np.zeros(m)\n",
    "    alpha = 0\n",
    "    for t in range(1,T+1):\n",
    "        indices = np.arange(n)\n",
    "        random.Random(t).shuffle(indices)\n",
    "        eta = 1/(lmda*t)    \n",
    "        for i in range(n):\n",
    "            x = X_train[indices[i],:]\n",
    "            y = y_train[indices[i]]\n",
    "            if y*(x@beta.T+alpha) < 1:\n",
    "                Delta = lmda*beta -y*x\n",
    "                delta = -y\n",
    "            else:\n",
    "                Delta = lmda*beta\n",
    "                delta = 0\n",
    "            beta = beta - eta*Delta\n",
    "            alpha = alpha - eta*delta\n",
    "    return beta, alpha"
   ]
  },
  {
   "cell_type": "code",
   "execution_count": 103,
   "id": "6df937c7",
   "metadata": {},
   "outputs": [],
   "source": [
    "beta, alpha = pagaso(X_train, y_train)"
   ]
  },
  {
   "cell_type": "code",
   "execution_count": 104,
   "id": "b3803ca6",
   "metadata": {},
   "outputs": [],
   "source": [
    "y_train_pred = np.sign(X_train@beta.T+alpha)\n",
    "y_test_pred = np.sign(X_test@beta.T+alpha)"
   ]
  },
  {
   "cell_type": "markdown",
   "id": "614ecfb6",
   "metadata": {},
   "source": [
    "train data confusion matrix and error rate"
   ]
  },
  {
   "cell_type": "code",
   "execution_count": 105,
   "id": "31470332",
   "metadata": {},
   "outputs": [
    {
     "data": {
      "text/plain": [
       "array([[ 94,   0],\n",
       "       [  6, 100]])"
      ]
     },
     "execution_count": 105,
     "metadata": {},
     "output_type": "execute_result"
    }
   ],
   "source": [
    "confusion_matrix(y_train_pred,y_train)"
   ]
  },
  {
   "cell_type": "code",
   "execution_count": 106,
   "id": "353f2cee",
   "metadata": {},
   "outputs": [
    {
     "data": {
      "text/plain": [
       "0.03"
      ]
     },
     "execution_count": 106,
     "metadata": {},
     "output_type": "execute_result"
    }
   ],
   "source": [
    "np.sum(y_train_pred!=y_train)/len(y_train)"
   ]
  },
  {
   "cell_type": "markdown",
   "id": "735b6e02",
   "metadata": {},
   "source": [
    "test data confusion matrix and error rate"
   ]
  },
  {
   "cell_type": "code",
   "execution_count": 107,
   "id": "76f1f142",
   "metadata": {},
   "outputs": [
    {
     "data": {
      "text/plain": [
       "array([[271,   5],\n",
       "       [ 29, 295]])"
      ]
     },
     "execution_count": 107,
     "metadata": {},
     "output_type": "execute_result"
    }
   ],
   "source": [
    "confusion_matrix(y_test_pred,y_test)"
   ]
  },
  {
   "cell_type": "code",
   "execution_count": 108,
   "id": "eb36fd1b",
   "metadata": {},
   "outputs": [
    {
     "data": {
      "text/plain": [
       "0.056666666666666664"
      ]
     },
     "execution_count": 108,
     "metadata": {},
     "output_type": "execute_result"
    }
   ],
   "source": [
    "np.sum(y_test_pred!=y_test)/len(y_test)"
   ]
  },
  {
   "cell_type": "code",
   "execution_count": null,
   "id": "5cb4c521",
   "metadata": {},
   "outputs": [],
   "source": []
  }
 ],
 "metadata": {
  "kernelspec": {
   "display_name": "Python 3 (ipykernel)",
   "language": "python",
   "name": "python3"
  },
  "language_info": {
   "codemirror_mode": {
    "name": "ipython",
    "version": 3
   },
   "file_extension": ".py",
   "mimetype": "text/x-python",
   "name": "python",
   "nbconvert_exporter": "python",
   "pygments_lexer": "ipython3",
   "version": "3.8.10"
  }
 },
 "nbformat": 4,
 "nbformat_minor": 5
}
