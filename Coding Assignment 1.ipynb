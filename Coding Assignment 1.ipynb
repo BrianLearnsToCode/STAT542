{
 "cells": [
  {
   "cell_type": "code",
   "execution_count": 44,
   "id": "40367654",
   "metadata": {},
   "outputs": [],
   "source": [
    "import numpy as np\n",
    "import matplotlib.pyplot as plt\n",
    "from sklearn.neighbors import KNeighborsClassifier as knn\n",
    "from sklearn import linear_model as lm"
   ]
  },
  {
   "cell_type": "markdown",
   "id": "8f740a78",
   "metadata": {},
   "source": [
    "# Part I"
   ]
  },
  {
   "cell_type": "markdown",
   "id": "5148d800",
   "metadata": {},
   "source": [
    "## Data Generation"
   ]
  },
  {
   "cell_type": "markdown",
   "id": "9f06492e",
   "metadata": {},
   "source": [
    "Generate the 20 centers, 10 for each group"
   ]
  },
  {
   "cell_type": "code",
   "execution_count": 2,
   "id": "1f2217c7",
   "metadata": {},
   "outputs": [],
   "source": [
    "np.random.seed(100)\n",
    "\n",
    "csize = 10      \n",
    "p = 2      \n",
    "s = 1;      # sd for generating the centers within each class                    \n",
    "m1 = np.random.normal(size = (csize, p)) * s \\\n",
    "     + np.concatenate([np.array([[1, 0]] * csize)])\n",
    "m0 = np.random.normal(size = (csize, p)) * s \\\n",
    "     + np.concatenate([np.array([[0, 1]] * csize)])"
   ]
  },
  {
   "cell_type": "markdown",
   "id": "71643cd2",
   "metadata": {},
   "source": [
    "Generate training data"
   ]
  },
  {
   "cell_type": "code",
   "execution_count": 16,
   "id": "ff3463dc",
   "metadata": {},
   "outputs": [],
   "source": [
    "np.random.seed(100)\n",
    "\n",
    "n_train = 100\n",
    "\n",
    "# Randomly allocate the n samples for class 1  to the 10 clusters\n",
    "id1 = np.random.randint(csize, size = n_train)\n",
    "id0 = np.random.randint(csize, size = n_train)\n",
    "\n",
    "# sd for generating data  \n",
    "s = np.sqrt(float(1)/5) \n",
    "\n",
    "train_x = np.random.normal(size = (2 * n_train, p)) * s \\\n",
    "            + np.concatenate([m1[id1,:], m0[id0,:]])\n",
    "train_y = np.concatenate(([1]*n_train, [0]*n_train))"
   ]
  },
  {
   "cell_type": "code",
   "execution_count": null,
   "id": "7d3dcc93",
   "metadata": {},
   "outputs": [],
   "source": []
  },
  {
   "cell_type": "markdown",
   "id": "7cdec4a4",
   "metadata": {},
   "source": [
    "Generate test data"
   ]
  },
  {
   "cell_type": "code",
   "execution_count": 17,
   "id": "b189189f",
   "metadata": {},
   "outputs": [],
   "source": [
    "np.random.seed(100)\n",
    "\n",
    "n_test = 5000\n",
    "\n",
    "# Randomly allocate the n samples for class 1  to the 10 clusters\n",
    "id1 = np.random.randint(csize, size = n_test)\n",
    "id0 = np.random.randint(csize, size = n_test)\n",
    "\n",
    "# sd for generating data  \n",
    "s = np.sqrt(float(1)/5) \n",
    "\n",
    "test_x = np.random.normal(size = (2 * n_test, p)) * s \\\n",
    "            + np.concatenate([m1[id1,:], m0[id0,:]])\n",
    "test_y = np.concatenate(([1]*n_test, [0]*n_test))"
   ]
  },
  {
   "cell_type": "markdown",
   "id": "7a3f3b7b",
   "metadata": {},
   "source": [
    "## Visualization"
   ]
  },
  {
   "cell_type": "code",
   "execution_count": 18,
   "id": "0f77191f",
   "metadata": {},
   "outputs": [
    {
     "data": {
      "image/png": "[encoded data removed]",
      "text/plain": [
       "<Figure size 432x288 with 1 Axes>"
      ]
     },
     "metadata": {
      "needs_background": "light"
     },
     "output_type": "display_data"
    }
   ],
   "source": [
    "plt.scatter(train_x[:n_train, 0], train_x[:n_train, 1], c = \"blue\", alpha=0.2, label='Class 1')\n",
    "plt.scatter(train_x[n_train:, 0], train_x[n_train:, 1], c = \"red\", alpha=0.2, label='Class 0')\n",
    "\n",
    "plt.scatter(m1[:,0], m1[:,1], marker = '+', s = 100, c = \"blue\")\n",
    "plt.scatter(m0[:,0], m0[:,1], marker = '+', s = 100, c = \"red\")\n",
    "\n",
    "plt.legend()\n",
    "plt.show()"
   ]
  },
  {
   "cell_type": "markdown",
   "id": "f075dfad",
   "metadata": {},
   "source": [
    "# Part II: kNN"
   ]
  },
  {
   "cell_type": "markdown",
   "id": "2adea934",
   "metadata": {},
   "source": [
    "Define myknn:\n",
    "If distance ties, it will return based the original sample order, but this won't appear as the locations are random;\n",
    "If votes ties, it will always return 0"
   ]
  },
  {
   "cell_type": "code",
   "execution_count": 30,
   "id": "b49bf21e",
   "metadata": {},
   "outputs": [],
   "source": [
    "class myknn:\n",
    "    def __init__(self, train_x, train_y, test_x, k):\n",
    "#train_x.shape = (n, p)\n",
    "#train_y.shape = (n, 1)\n",
    "#test_x.shape = (m, p)\n",
    "        self.train_x = train_x\n",
    "        n = train_y.shape[0]\n",
    "        self.train_y = train_y.reshape(n,1)\n",
    "        self.test_x = test_x\n",
    "        self.k = k\n",
    "    \n",
    "    def fit(self):\n",
    "        (n,p) = train_x.shape\n",
    "        (m,p) = test_x.shape\n",
    "        u = np.sum(self.train_x**2,axis=1)\n",
    "        v = np.sum(self.test_x**2,axis=1)\n",
    "        A = np.tile(u,(m,1)).T\n",
    "        B = np.tile(v,(n,1))\n",
    "        C= np.dot(self.train_x,self.test_x.T)\n",
    "        # self.distance matrix shape (n,m)\n",
    "        self.distance = A + B -2*C \n",
    "        Y_label = np.tile(self.train_y,(1,m))\n",
    "        # sort the distance\n",
    "        sorted_indices = np.argsort(self.distance,axis = 0)\n",
    "        new_Y_label = np.take_along_axis(Y_label,sorted_indices,axis = 0)\n",
    "        most_common_values = np.apply_along_axis(lambda x: np.bincount(x).argmax(), axis=0, arr=new_Y_label[:k,:])\n",
    "        \n",
    "        return most_common_values    "
   ]
  },
  {
   "cell_type": "markdown",
   "id": "ca5fb741",
   "metadata": {},
   "source": [
    "Compare with the sklearn buildin knn function in the case k = 1/3/5"
   ]
  },
  {
   "cell_type": "code",
   "execution_count": 31,
   "id": "bbeb0cc8",
   "metadata": {},
   "outputs": [],
   "source": [
    "from sklearn.neighbors import KNeighborsClassifier\n",
    "from sklearn.metrics import confusion_matrix"
   ]
  },
  {
   "cell_type": "code",
   "execution_count": 32,
   "id": "8d6fddcf",
   "metadata": {},
   "outputs": [
    {
     "name": "stdout",
     "output_type": "stream",
     "text": [
      "[[3506 1494]\n",
      " [1511 3489]]\n",
      "[[3506 1494]\n",
      " [1511 3489]]\n"
     ]
    }
   ],
   "source": [
    "k = 1\n",
    "knn = myknn(train_x,train_y,test_x,k)\n",
    "prediction = knn.fit()\n",
    "neigh = KNeighborsClassifier(n_neighbors=k)\n",
    "neigh.fit(train_x, train_y)\n",
    "prediction_sklearn = neigh.predict(test_x)\n",
    "cm = confusion_matrix(test_y, prediction)\n",
    "cm_sklearn = confusion_matrix(test_y, prediction_sklearn)\n",
    "print(cm)\n",
    "print(cm_sklearn)"
   ]
  },
  {
   "cell_type": "code",
   "execution_count": 33,
   "id": "dec13661",
   "metadata": {},
   "outputs": [
    {
     "name": "stdout",
     "output_type": "stream",
     "text": [
      "[[3585 1415]\n",
      " [1269 3731]]\n",
      "[[3585 1415]\n",
      " [1269 3731]]\n"
     ]
    }
   ],
   "source": [
    "k = 3\n",
    "knn = myknn(train_x,train_y,test_x,k)\n",
    "prediction = knn.fit()\n",
    "neigh = KNeighborsClassifier(n_neighbors=k)\n",
    "neigh.fit(train_x, train_y)\n",
    "prediction_sklearn = neigh.predict(test_x)\n",
    "cm = confusion_matrix(test_y, prediction)\n",
    "cm_sklearn = confusion_matrix(test_y, prediction_sklearn)\n",
    "print(cm)\n",
    "print(cm_sklearn)"
   ]
  },
  {
   "cell_type": "code",
   "execution_count": 34,
   "id": "aca37ea4",
   "metadata": {},
   "outputs": [
    {
     "name": "stdout",
     "output_type": "stream",
     "text": [
      "[[3521 1479]\n",
      " [1105 3895]]\n",
      "[[3521 1479]\n",
      " [1105 3895]]\n"
     ]
    }
   ],
   "source": [
    "k = 5\n",
    "knn = myknn(train_x,train_y,test_x,k)\n",
    "prediction = knn.fit()\n",
    "neigh = KNeighborsClassifier(n_neighbors=k)\n",
    "neigh.fit(train_x, train_y)\n",
    "prediction_sklearn = neigh.predict(test_x)\n",
    "cm = confusion_matrix(test_y, prediction)\n",
    "cm_sklearn = confusion_matrix(test_y, prediction_sklearn)\n",
    "print(cm)\n",
    "print(cm_sklearn)"
   ]
  },
  {
   "cell_type": "markdown",
   "id": "4e85a30a",
   "metadata": {},
   "source": [
    "# Part III: cvkNN"
   ]
  },
  {
   "cell_type": "code",
   "execution_count": 37,
   "id": "104ff6b0",
   "metadata": {},
   "outputs": [
    {
     "data": {
      "text/plain": [
       "array([0.315, 0.315, 0.23 , 0.225, 0.225, 0.24 , 0.235, 0.225, 0.21 ,\n",
       "       0.22 , 0.22 , 0.255, 0.235, 0.275, 0.26 , 0.265, 0.25 , 0.27 ,\n",
       "       0.26 , 0.27 , 0.245, 0.25 , 0.23 , 0.245, 0.215, 0.245, 0.205,\n",
       "       0.235, 0.215, 0.23 , 0.245, 0.245, 0.23 , 0.225, 0.24 , 0.23 ,\n",
       "       0.24 , 0.245, 0.245, 0.265, 0.245, 0.25 , 0.265, 0.265, 0.255,\n",
       "       0.255, 0.255, 0.26 , 0.26 , 0.255, 0.255, 0.255, 0.255, 0.255,\n",
       "       0.255, 0.255, 0.26 , 0.26 , 0.265, 0.26 , 0.27 , 0.27 , 0.27 ,\n",
       "       0.275, 0.285, 0.27 , 0.275, 0.275, 0.275, 0.275, 0.28 , 0.27 ,\n",
       "       0.27 , 0.26 , 0.28 , 0.27 , 0.275, 0.275, 0.285, 0.285, 0.285,\n",
       "       0.29 , 0.28 , 0.28 , 0.275, 0.27 , 0.28 , 0.275, 0.28 , 0.28 ,\n",
       "       0.285, 0.29 , 0.285, 0.285, 0.285, 0.29 , 0.285, 0.285, 0.285,\n",
       "       0.29 , 0.29 , 0.295, 0.29 , 0.295, 0.29 , 0.295, 0.295, 0.305,\n",
       "       0.29 , 0.3  , 0.29 , 0.305, 0.295, 0.305, 0.31 , 0.315, 0.315,\n",
       "       0.32 , 0.31 , 0.315, 0.315, 0.315, 0.315, 0.315, 0.31 , 0.315,\n",
       "       0.315, 0.32 , 0.315, 0.32 , 0.32 , 0.325, 0.33 , 0.325, 0.33 ,\n",
       "       0.325, 0.33 , 0.325, 0.34 , 0.335, 0.345, 0.33 , 0.335, 0.325,\n",
       "       0.32 , 0.33 , 0.345, 0.34 , 0.335, 0.325, 0.36 , 0.335, 0.34 ,\n",
       "       0.335, 0.335, 0.33 , 0.335, 0.33 , 0.345, 0.35 , 0.35 , 0.36 ,\n",
       "       0.36 , 0.35 , 0.35 , 0.35 , 0.365, 0.355, 0.4  , 0.43 , 0.45 ,\n",
       "       0.445, 0.455, 0.45 , 0.455, 0.455, 0.48 , 0.57 , 0.59 , 0.59 ])"
      ]
     },
     "execution_count": 37,
     "metadata": {},
     "output_type": "execute_result"
    }
   ],
   "source": [
    "myk = range(1,181)\n",
    "num_folds = 10\n",
    "n = len(train_y)\n",
    "m = len(myk)\n",
    "cverr = np.zeros(m)\n",
    "\n",
    "indices = np.arange(n)\n",
    "np.random.shuffle(indices)\n",
    "index_sets = np.array_split(indices, num_folds)\n",
    "\n",
    "for ifold in range(num_folds):\n",
    "    train_indices =  np.delete(index_sets, obj=ifold, axis=0).ravel()\n",
    "    _traindata = train_x[train_indices]\n",
    "    _Ytrain = train_y[train_indices]\n",
    "    \n",
    "    test_indices = index_sets[ifold]\n",
    "    _testdata = train_x[test_indices]\n",
    "    _Ytest = train_y[test_indices]\n",
    "   \n",
    "    for j in range(m):\n",
    "        K = myk[j]\n",
    "        knn_model = KNeighborsClassifier(K)\n",
    "        knn_model.fit(_traindata, _Ytrain)\n",
    "        predict_Y = knn_model.predict(_testdata)\n",
    "        cverr[j] += sum(predict_Y != _Ytest)\n",
    "    \n",
    "cverr /= float(n)\n",
    "cverr"
   ]
  },
  {
   "cell_type": "code",
   "execution_count": 52,
   "id": "4842620a",
   "metadata": {},
   "outputs": [
    {
     "name": "stdout",
     "output_type": "stream",
     "text": [
      "[[3473 1527]\n",
      " [ 955 4045]]\n"
     ]
    }
   ],
   "source": [
    "k_selected = np.argmin(cverr)+1\n",
    "neigh = KNeighborsClassifier(n_neighbors=k_selected)\n",
    "neigh.fit(train_x, train_y)\n",
    "prediction_sklearn = neigh.predict(test_x)\n",
    "cm_selected = confusion_matrix(test_y, prediction_sklearn)\n",
    "print(cm_selected)"
   ]
  },
  {
   "cell_type": "code",
   "execution_count": null,
   "id": "bafe9b17",
   "metadata": {},
   "outputs": [],
   "source": []
  }
 ],
 "metadata": {
  "kernelspec": {
   "display_name": "Python 3 (ipykernel)",
   "language": "python",
   "name": "python3"
  },
  "language_info": {
   "codemirror_mode": {
    "name": "ipython",
    "version": 3
   },
   "file_extension": ".py",
   "mimetype": "text/x-python",
   "name": "python",
   "nbconvert_exporter": "python",
   "pygments_lexer": "ipython3",
   "version": "3.8.10"
  }
 },
 "nbformat": 4,
 "nbformat_minor": 5
}
