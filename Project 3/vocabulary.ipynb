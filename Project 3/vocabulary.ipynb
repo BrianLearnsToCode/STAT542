{
 "cells": [
  {
   "cell_type": "code",
   "execution_count": 2,
   "id": "0ee43e57",
   "metadata": {},
   "outputs": [],
   "source": [
    "import pandas as pd\n",
    "import numpy as np\n",
    "\n",
    "import nltk\n",
    "from nltk.corpus import stopwords\n",
    "\n",
    "from sklearn.feature_extraction.text import CountVectorizer, TfidfVectorizer\n",
    "from sklearn.linear_model import LogisticRegression, LogisticRegressionCV\n",
    "\n",
    "import time"
   ]
  },
  {
   "cell_type": "code",
   "execution_count": null,
   "id": "75f749e6",
   "metadata": {},
   "outputs": [],
   "source": []
  },
  {
   "cell_type": "code",
   "execution_count": 3,
   "id": "7fd2e1de",
   "metadata": {},
   "outputs": [
    {
     "data": {
      "text/plain": [
       "80.1889750957489"
      ]
     },
     "execution_count": 3,
     "metadata": {},
     "output_type": "execute_result"
    }
   ],
   "source": [
    "start = time.time()\n",
    "\n",
    "stop_words = set(stopwords.words('english'))\n",
    "\n",
    "\n",
    "train_url = 'proj3_data/split_1/train.tsv'\n",
    "test_url = 'proj3_data/split_1/test.tsv'\n",
    "test_y_url = 'proj3_data/split_1/test_y.tsv'\n",
    "train = pd.read_csv(train_url, sep='\\t', header=0, dtype=str)\n",
    "test =  pd.read_csv(test_url, sep='\\t', header=0, dtype=str)\n",
    "train['review'] = train['review'].str.replace('&lt;.*?&gt;', ' ', regex=True)\n",
    "test['review'] = test['review'].str.replace('&lt;.*?&gt;', ' ', regex=True)\n",
    "test_y = pd.read_csv(test_y_url, sep='\\t', header=0,dtype=str)\n",
    "test = test.merge(test_y, on = 'id')\n",
    "\n",
    "tot = pd.DataFrame()\n",
    "tot['review'] = pd.concat([train['review'],test['review']])\n",
    "tot['sentiment'] = pd.concat([train['sentiment'],test['sentiment']])\n",
    "\n",
    "vectorizer = TfidfVectorizer(\n",
    "    preprocessor=lambda x: x.lower(),  # Convert to lowercase\n",
    "    stop_words=stop_words,             # Remove stop words\n",
    "    ngram_range=(1, 4),               # Use 1- to 4-grams\n",
    "    min_df=0.001,                        # Minimum term frequency\n",
    "    max_df=0.5,                       # Maximum document frequency\n",
    "    token_pattern=r\"\\b[\\w+\\|']+\\b\" # Use word tokenizer: See Ethan's comment below\n",
    ")\n",
    "\n",
    "dtm_tot = vectorizer.fit_transform(tot['review'])\n",
    "feature_names = vectorizer.get_feature_names_out()\n",
    "dtm_train=dtm_tot[:25000,:]\n",
    "logreg = LogisticRegression(C=1.01,\n",
    "                            max_iter=10000, \n",
    "                            solver='liblinear',penalty='l1').fit(dtm_train, train['sentiment'])\n",
    "selected_features = feature_names[logreg.coef_[0]!=0]\n",
    "vocabulary_dict = {feature: idx for idx, feature in enumerate(selected_features)}\n",
    "\n",
    "file_path = 'myvocab.txt'\n",
    "\n",
    "# Write the dictionary to the text file\n",
    "with open(file_path, 'w') as file:\n",
    "    for word, index in vocabulary_dict.items():\n",
    "        file.write(f'{word}: {index}\\n')\n",
    "\n",
    "end = time.time()\n",
    "end - start"
   ]
  },
  {
   "cell_type": "code",
   "execution_count": null,
   "id": "9838a052",
   "metadata": {},
   "outputs": [],
   "source": []
  },
  {
   "cell_type": "code",
   "execution_count": null,
   "id": "49ad10b2",
   "metadata": {},
   "outputs": [],
   "source": []
  },
  {
   "cell_type": "code",
   "execution_count": null,
   "id": "4d20b1bf",
   "metadata": {},
   "outputs": [],
   "source": []
  }
 ],
 "metadata": {
  "kernelspec": {
   "display_name": "Python 3 (ipykernel)",
   "language": "python",
   "name": "python3"
  },
  "language_info": {
   "codemirror_mode": {
    "name": "ipython",
    "version": 3
   },
   "file_extension": ".py",
   "mimetype": "text/x-python",
   "name": "python",
   "nbconvert_exporter": "python",
   "pygments_lexer": "ipython3",
   "version": "3.8.10"
  }
 },
 "nbformat": 4,
 "nbformat_minor": 5
}
