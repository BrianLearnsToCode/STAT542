{
 "cells": [
  {
   "cell_type": "markdown",
   "id": "5e8eb544",
   "metadata": {},
   "source": [
    "Authors: Wenbo Fu (679744457), Bingyan Liu(668046518)\n",
    "\n",
    "Both authors contribute equally"
   ]
  },
  {
   "cell_type": "code",
   "execution_count": 1,
   "id": "8981b085",
   "metadata": {},
   "outputs": [],
   "source": [
    "import numpy as np"
   ]
  },
  {
   "cell_type": "markdown",
   "id": "94e42a8e",
   "metadata": {},
   "source": [
    "# Part I"
   ]
  },
  {
   "cell_type": "code",
   "execution_count": 2,
   "id": "c9a39845",
   "metadata": {},
   "outputs": [],
   "source": [
    "data = np.loadtxt('faithful.dat',skiprows = 1)"
   ]
  },
  {
   "cell_type": "code",
   "execution_count": 3,
   "id": "50c87acb",
   "metadata": {},
   "outputs": [],
   "source": [
    "X = data[:,1:].T"
   ]
  },
  {
   "cell_type": "code",
   "execution_count": 4,
   "id": "4770b37a",
   "metadata": {},
   "outputs": [],
   "source": [
    "p, n = X.shape"
   ]
  },
  {
   "cell_type": "code",
   "execution_count": 5,
   "id": "e2f42a18",
   "metadata": {},
   "outputs": [
    {
     "data": {
      "text/plain": [
       "(2, 272)"
      ]
     },
     "execution_count": 5,
     "metadata": {},
     "output_type": "execute_result"
    }
   ],
   "source": [
    "X.shape"
   ]
  },
  {
   "cell_type": "code",
   "execution_count": 6,
   "id": "ee21bd2f",
   "metadata": {},
   "outputs": [],
   "source": [
    "def estep(X, pi, Sigma, mu):\n",
    "# X: (p,n)\n",
    "# pi: (G,)\n",
    "# Sigma: (p,p)\n",
    "# mu: (p,G)\n",
    "\n",
    "#return\n",
    "#prob.T (n,G)\n",
    "    p, n = X.shape\n",
    "    G = pi.shape\n",
    "    deltax = X[:,np.newaxis,:]-mu[:, :, np.newaxis] #(p,G,n)\n",
    "    U, S, V = np.linalg.svd(Sigma)\n",
    "    D = np.diag(1/np.sqrt(S))\n",
    "    deltax1 = np.tensordot(D@U.T,deltax,axes=(1, 0))\n",
    "    exponent = -1/2*np.sum(deltax1**2,axis=0)\n",
    "    N = 1/np.sqrt(np.linalg.det(Sigma)*(2*np.pi)**p)*np.exp(exponent) #(G,n)\n",
    "    prob = np.diag(pi)@N / np.sum(np.diag(pi)@N,axis = 0)\n",
    "    \n",
    "    return prob.T    "
   ]
  },
  {
   "cell_type": "code",
   "execution_count": 7,
   "id": "980d9bee",
   "metadata": {},
   "outputs": [],
   "source": [
    "def mstep(X,prob):\n",
    "# X: (p,n)\n",
    "# prob: (n,G)\n",
    "\n",
    "#return\n",
    "#pi: (G)\n",
    "#mu: (p,G)\n",
    "#Sigma: (p,p)\n",
    "    p, n = X.shape\n",
    "    pi = np.sum(prob,axis = 0)/n\n",
    "    mu = X @ prob / np.sum(prob,axis = 0)[np.newaxis,:] #(p,G)\n",
    "    deltax = X[:,np.newaxis,:]-mu[:, :, np.newaxis] #(p,G,n)\n",
    "    deltax1 = deltax * np.sqrt(prob.T)[np.newaxis,:,:]\n",
    "    Sigma = np.tensordot(deltax1,deltax1,axes=([1,2],[1,2]))/n\n",
    "    return pi, mu, Sigma"
   ]
  },
  {
   "cell_type": "code",
   "execution_count": 8,
   "id": "875e711a",
   "metadata": {},
   "outputs": [],
   "source": [
    "def loglik(X,pi,Sigma,mu):\n",
    "# X: (p,n)\n",
    "# pi: (G,)\n",
    "# Sigma: (p,p)\n",
    "# mu: (p,G)  \n",
    "\n",
    "    p, n = X.shape\n",
    "    G = pi.shape\n",
    "    deltax = X[:,np.newaxis,:]-mu[:, :, np.newaxis] #(p,G,n)\n",
    "    U, S, V = np.linalg.svd(Sigma)\n",
    "    D = np.diag(1/np.sqrt(S))\n",
    "    deltax1 = np.tensordot(D@U.T,deltax,axes=(1, 0))\n",
    "    exponent = -1/2*np.sum(deltax1**2,axis=0)\n",
    "    N = 1/np.sqrt(np.linalg.det(Sigma)*(2*np.pi)**p)*np.exp(exponent) #(G,n)\n",
    "    logp = np.sum(np.log(pi @ N))\n",
    "    \n",
    "    return logp"
   ]
  },
  {
   "cell_type": "code",
   "execution_count": 9,
   "id": "169a76c0",
   "metadata": {},
   "outputs": [],
   "source": [
    "def myEM(X,G,pi,Sigma,mu,itmax):\n",
    "    \n",
    "    for i in range(itmax):\n",
    "        prob = estep(X, pi, Sigma, mu)\n",
    "        pi, mu, Sigma = mstep(X,prob)\n",
    "    \n",
    "    logp = loglik(X,pi,Sigma,mu)\n",
    "    return pi, mu, Sigma, logp    "
   ]
  },
  {
   "cell_type": "code",
   "execution_count": null,
   "id": "1f295364",
   "metadata": {},
   "outputs": [],
   "source": []
  },
  {
   "cell_type": "code",
   "execution_count": 10,
   "id": "2eac7e18",
   "metadata": {},
   "outputs": [],
   "source": [
    "itmax = 20\n",
    "G=2\n",
    "p1 = 10/n\n",
    "p2 = (n-10)/n\n",
    "pi = np.array([p1,p2])\n",
    "\n",
    "mu1 = np.mean(X[:,:10],axis = 1)\n",
    "mu2 = np.mean(X[:,10:],axis = 1)\n",
    "mu = np.vstack((mu1, mu2)).T\n",
    "\n",
    "deltax1 = X[:,:10] - mu1[:,np.newaxis]\n",
    "deltax2 = X[:,10:] - mu2[:,np.newaxis]\n",
    "\n",
    "Sigma = 1/n*(deltax1@deltax1.T+deltax2@deltax2.T)\n",
    "\n",
    "pi, mu, Sigma, logp = myEM(X,G,pi,Sigma,mu,itmax)"
   ]
  },
  {
   "cell_type": "code",
   "execution_count": 11,
   "id": "c8c4f7c9",
   "metadata": {},
   "outputs": [
    {
     "data": {
      "text/plain": [
       "array([0.04297883, 0.95702117])"
      ]
     },
     "execution_count": 11,
     "metadata": {},
     "output_type": "execute_result"
    }
   ],
   "source": [
    "pi"
   ]
  },
  {
   "cell_type": "code",
   "execution_count": 12,
   "id": "23326735",
   "metadata": {},
   "outputs": [
    {
     "data": {
      "text/plain": [
       "array([[ 3.49564188,  3.48743016],\n",
       "       [76.79789154, 70.63205853]])"
      ]
     },
     "execution_count": 12,
     "metadata": {},
     "output_type": "execute_result"
    }
   ],
   "source": [
    "mu"
   ]
  },
  {
   "cell_type": "code",
   "execution_count": 13,
   "id": "51ba8e6a",
   "metadata": {},
   "outputs": [
    {
     "data": {
      "text/plain": [
       "array([[  1.29793612,  13.92433626],\n",
       "       [ 13.92433626, 182.58009247]])"
      ]
     },
     "execution_count": 13,
     "metadata": {},
     "output_type": "execute_result"
    }
   ],
   "source": [
    "Sigma"
   ]
  },
  {
   "cell_type": "code",
   "execution_count": 14,
   "id": "dd7bc770",
   "metadata": {},
   "outputs": [
    {
     "data": {
      "text/plain": [
       "-1289.5693549424104"
      ]
     },
     "execution_count": 14,
     "metadata": {},
     "output_type": "execute_result"
    }
   ],
   "source": [
    "logp"
   ]
  },
  {
   "cell_type": "code",
   "execution_count": null,
   "id": "b7a0321f",
   "metadata": {},
   "outputs": [],
   "source": []
  },
  {
   "cell_type": "code",
   "execution_count": 15,
   "id": "7436d962",
   "metadata": {},
   "outputs": [],
   "source": [
    "itmax = 20\n",
    "G=3\n",
    "\n",
    "p1 = 10/n\n",
    "p2 = 20/n\n",
    "p3 = (n-30)/n\n",
    "pi = np.array([p1,p2,p3])\n",
    "\n",
    "mu1 = np.mean(X[:,:10],axis = 1)\n",
    "mu2 = np.mean(X[:,10:30],axis = 1)\n",
    "mu3 = np.mean(X[:,30:],axis = 1)\n",
    "mu = np.vstack((mu1, mu2, mu3)).T\n",
    "\n",
    "deltax1 = X[:,:10] - mu1[:,np.newaxis]\n",
    "deltax2 = X[:,10:30] - mu2[:,np.newaxis]\n",
    "deltax3 = X[:,30:] - mu3[:,np.newaxis]\n",
    "\n",
    "Sigma = 1/n*(deltax1@deltax1.T+deltax2@deltax2.T+deltax3@deltax3.T)\n",
    "\n",
    "pi, mu, Sigma, logp = myEM(X,G,pi,Sigma,mu,itmax)"
   ]
  },
  {
   "cell_type": "code",
   "execution_count": 16,
   "id": "50ac5940",
   "metadata": {},
   "outputs": [
    {
     "data": {
      "text/plain": [
       "array([0.04363422, 0.07718656, 0.87917922])"
      ]
     },
     "execution_count": 16,
     "metadata": {},
     "output_type": "execute_result"
    }
   ],
   "source": [
    "pi"
   ]
  },
  {
   "cell_type": "code",
   "execution_count": 17,
   "id": "e958b98c",
   "metadata": {},
   "outputs": [
    {
     "data": {
      "text/plain": [
       "array([[ 3.51006918,  2.81616674,  3.54564083],\n",
       "       [77.10563811, 63.35752634, 71.25084801]])"
      ]
     },
     "execution_count": 17,
     "metadata": {},
     "output_type": "execute_result"
    }
   ],
   "source": [
    "mu"
   ]
  },
  {
   "cell_type": "code",
   "execution_count": 18,
   "id": "9f54eb17",
   "metadata": {},
   "outputs": [
    {
     "data": {
      "text/plain": [
       "array([[  1.26015772,  13.51153756],\n",
       "       [ 13.51153756, 177.96419105]])"
      ]
     },
     "execution_count": 18,
     "metadata": {},
     "output_type": "execute_result"
    }
   ],
   "source": [
    "Sigma"
   ]
  },
  {
   "cell_type": "code",
   "execution_count": 19,
   "id": "4daedb08",
   "metadata": {},
   "outputs": [
    {
     "data": {
      "text/plain": [
       "-1289.3509588627348"
      ]
     },
     "execution_count": 19,
     "metadata": {},
     "output_type": "execute_result"
    }
   ],
   "source": [
    "logp"
   ]
  },
  {
   "cell_type": "code",
   "execution_count": null,
   "id": "f2f43718",
   "metadata": {},
   "outputs": [],
   "source": []
  },
  {
   "cell_type": "markdown",
   "id": "0861a84c",
   "metadata": {},
   "source": [
    "# Part II"
   ]
  },
  {
   "cell_type": "code",
   "execution_count": 20,
   "id": "3e110caa",
   "metadata": {},
   "outputs": [],
   "source": [
    "data = np.loadtxt('coding4_part2_data.txt')"
   ]
  },
  {
   "cell_type": "code",
   "execution_count": 21,
   "id": "7d45a1d7",
   "metadata": {},
   "outputs": [],
   "source": [
    "X = data.astype(int)"
   ]
  },
  {
   "cell_type": "code",
   "execution_count": 22,
   "id": "7eb4eada",
   "metadata": {},
   "outputs": [],
   "source": [
    "def BWonestep(X,w,A,B,mx,mz):\n",
    "    \n",
    "# X: (T)\n",
    "# w: (mz)\n",
    "# A: (mz,mz)\n",
    "# B: (mz,mx)\n",
    "\n",
    "#return\n",
    "# A: (mz,mz)\n",
    "# B: (mz,mx)\n",
    "\n",
    "    T = len(X)\n",
    "    alpha = np.zeros((T,mz))\n",
    "    beta = np.ones((T,mz))\n",
    "    alpha[0,:] = w*B[:,X[0]-1]\n",
    "    for i in range(1, T):\n",
    "        alpha[i,:]=(alpha[i-1,:]@A)*B[:,X[i]-1]\n",
    "        beta[T-1-i,:] = A@np.diag(beta[T-i,:])@B[:,X[T-i]-1]\n",
    "    gamma = np.zeros((T-1,mz,mz))\n",
    "    gamma_t = np.zeros((T,mz))\n",
    "    for i in range(T-1):\n",
    "        gamma[i,:,:] = np.diag(alpha[i,:])@A@np.diag(beta[i+1,:])@np.diag(B[:,X[i+1]-1])\n",
    "#    gamma_t[:-1,:] = np.sum(gamma,axis = 2)\n",
    "#    gamma_t[-1,:] = np.sum(gamma[T-2,:,:],axis = 1)\n",
    "    gamma_t[1:,:] = np.sum(gamma,axis = 1)\n",
    "    gamma_t[0,:] = np.sum(gamma[0,:,:],axis = 1)\n",
    "    \n",
    "    A = np.diag(1/np.sum(gamma,axis=(0,2)))@np.sum(gamma,axis=0)\n",
    "    for i in range(mx):\n",
    "        gamma_ti = gamma_t[np.where(X==i+1)[0],:]\n",
    "        B[:,i] = np.sum(gamma_ti,axis=0)/np.sum(gamma_t,axis=0)\n",
    "        \n",
    "    return A, B\n",
    "    "
   ]
  },
  {
   "cell_type": "code",
   "execution_count": 23,
   "id": "94a014c0",
   "metadata": {},
   "outputs": [],
   "source": [
    "def myBW(X,w,A,B,mx,mz,itmax):\n",
    "# X: (T)\n",
    "# w: (mz)\n",
    "# A: (mz,mz)\n",
    "# B: (mz,mx)\n",
    "\n",
    "#return\n",
    "# A: (mz,mz)\n",
    "# B: (mz,mx)\n",
    "    for i in range(itmax):\n",
    "        A, B = BWonestep(X,w,A,B,mx,mz)\n",
    "    return A, B"
   ]
  },
  {
   "cell_type": "code",
   "execution_count": 24,
   "id": "c291cb93",
   "metadata": {},
   "outputs": [],
   "source": [
    "mx = 3\n",
    "mz = 2\n",
    "w = np.array([0.5,0.5])\n",
    "A = np.array([[0.5,0.5],[0.5,0.5]])\n",
    "B = np.array([[1/9,3/9,5/9],[1/6,2/6,3/6]])\n",
    "itmax = 100"
   ]
  },
  {
   "cell_type": "code",
   "execution_count": 25,
   "id": "5c2e2664",
   "metadata": {},
   "outputs": [],
   "source": [
    "A, B= myBW(X,w,A,B,mx,mz,itmax)"
   ]
  },
  {
   "cell_type": "code",
   "execution_count": 26,
   "id": "7bc590bf",
   "metadata": {},
   "outputs": [
    {
     "data": {
      "text/plain": [
       "array([[0.49793938, 0.50206062],\n",
       "       [0.44883431, 0.55116569]])"
      ]
     },
     "execution_count": 26,
     "metadata": {},
     "output_type": "execute_result"
    }
   ],
   "source": [
    "A"
   ]
  },
  {
   "cell_type": "code",
   "execution_count": 27,
   "id": "518934db",
   "metadata": {},
   "outputs": [
    {
     "data": {
      "text/plain": [
       "array([[0.22159897, 0.20266127, 0.57573976],\n",
       "       [0.34175148, 0.17866665, 0.47958186]])"
      ]
     },
     "execution_count": 27,
     "metadata": {},
     "output_type": "execute_result"
    }
   ],
   "source": [
    "B"
   ]
  },
  {
   "cell_type": "code",
   "execution_count": 28,
   "id": "58af5cd3",
   "metadata": {},
   "outputs": [],
   "source": [
    "def myViterbi(X,w,A,B,mx,mz):\n",
    "    \n",
    "# X: (T)\n",
    "# w: (mz)\n",
    "# A: (mz,mz)\n",
    "# B: (mz,mx)\n",
    "\n",
    "#return\n",
    "# Z: (T)\n",
    "    T = len(X)\n",
    "    delta = np.zeros((T,mz))\n",
    "    delta[0,:] = w*B[:,X[0]-1]\n",
    "    for i in range(1,T):\n",
    "        delta[i,:]=np.max(delta[i-1,:]*A.T,axis = 1)*B[:,X[i]-1]\n",
    "    Z = np.zeros(T).astype(int)\n",
    "    Z[-1] = np.argmax(delta[-1,:]) + 1\n",
    "    for i in range(1,T):\n",
    "        Z[T-i-1] = np.argmax(delta[T-i-1,:]*A[:,Z[T-i]-1])+1\n",
    "    return Z"
   ]
  },
  {
   "cell_type": "code",
   "execution_count": 29,
   "id": "16d0a1ed",
   "metadata": {},
   "outputs": [],
   "source": [
    "Z = myViterbi(X,w,A,B,mx,mz)"
   ]
  },
  {
   "cell_type": "code",
   "execution_count": 30,
   "id": "8f1deb65",
   "metadata": {},
   "outputs": [],
   "source": [
    "file_path = 'Coding4_part2_Z.txt'\n",
    "with open(file_path, \"r\") as file:\n",
    "    lines = file.read().splitlines()\n",
    "data=[]\n",
    "for line in lines:\n",
    "    data += line.split()\n",
    "Z1 = np.array(data).astype(int)"
   ]
  },
  {
   "cell_type": "code",
   "execution_count": 31,
   "id": "6b09f68b",
   "metadata": {},
   "outputs": [
    {
     "data": {
      "text/plain": [
       "True"
      ]
     },
     "execution_count": 31,
     "metadata": {},
     "output_type": "execute_result"
    }
   ],
   "source": [
    "np.array_equal(Z,Z1)"
   ]
  },
  {
   "cell_type": "code",
   "execution_count": null,
   "id": "5be7fa56",
   "metadata": {},
   "outputs": [],
   "source": []
  }
 ],
 "metadata": {
  "kernelspec": {
   "display_name": "Python 3 (ipykernel)",
   "language": "python",
   "name": "python3"
  },
  "language_info": {
   "codemirror_mode": {
    "name": "ipython",
    "version": 3
   },
   "file_extension": ".py",
   "mimetype": "text/x-python",
   "name": "python",
   "nbconvert_exporter": "python",
   "pygments_lexer": "ipython3",
   "version": "3.8.10"
  }
 },
 "nbformat": 4,
 "nbformat_minor": 5
}
