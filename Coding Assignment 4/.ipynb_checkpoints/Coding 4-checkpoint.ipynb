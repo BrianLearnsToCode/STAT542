{
 "cells": [
  {
   "cell_type": "markdown",
   "id": "ec89b2b7",
   "metadata": {},
   "source": [
    "Assignment Description See https://campuswire.com/c/G06C55090/feed/432"
   ]
  },
  {
   "cell_type": "code",
   "execution_count": null,
   "id": "64897b5b",
   "metadata": {},
   "outputs": [],
   "source": []
  }
 ],
 "metadata": {
  "kernelspec": {
   "display_name": "Python 3 (ipykernel)",
   "language": "python",
   "name": "python3"
  },
  "language_info": {
   "codemirror_mode": {
    "name": "ipython",
    "version": 3
   },
   "file_extension": ".py",
   "mimetype": "text/x-python",
   "name": "python",
   "nbconvert_exporter": "python",
   "pygments_lexer": "ipython3",
   "version": "3.8.3"
  }
 },
 "nbformat": 4,
 "nbformat_minor": 5
}
