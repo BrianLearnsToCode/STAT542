{
 "cells": [
  {
   "cell_type": "code",
   "execution_count": 4,
   "id": "80268b23",
   "metadata": {},
   "outputs": [],
   "source": [
    "import pandas as pd\n",
    "import numpy as np\n",
    "import seaborn as sns\n",
    "import matplotlib.pyplot as plt\n",
    "from sklearn.linear_model import LinearRegression as lm\n",
    "from sklearn.metrics import mean_squared_error, r2_score\n",
    "import itertools"
   ]
  },
  {
   "cell_type": "code",
   "execution_count": 2,
   "id": "cd724f90",
   "metadata": {},
   "outputs": [],
   "source": [
    "myData = pd.read_csv(\"https://hastie.su.domains/ElemStatLearn/datasets/prostate.data\", sep='\\t')\n",
    "train_mask = (myData['train'] == 'T')\n",
    "test_mask = (myData['train'] == 'F')\n",
    "myData = myData.drop(columns=[myData.columns[0], myData.columns[10]])\n",
    "X_train = myData[train_mask].iloc[:, :-1]\n",
    "Y_train =  myData[train_mask].iloc[:, -1]\n",
    "X_test = myData[test_mask].iloc[:, :-1]\n",
    "Y_test =  myData[test_mask].iloc[:, -1]"
   ]
  },
  {
   "cell_type": "code",
   "execution_count": 8,
   "id": "a501b2df",
   "metadata": {},
   "outputs": [],
   "source": [
    "model = lm()\n",
    "model.fit(X_train, Y_train)\n",
    "RSS = mean_squared_error(Y_test, model.predict(X_test)) * len(Y_test)"
   ]
  },
  {
   "cell_type": "code",
   "execution_count": 9,
   "id": "f49a2dfe",
   "metadata": {},
   "outputs": [
    {
     "data": {
      "text/plain": [
       "15.638220165228065"
      ]
     },
     "execution_count": 9,
     "metadata": {},
     "output_type": "execute_result"
    }
   ],
   "source": [
    "RSS"
   ]
  },
  {
   "cell_type": "code",
   "execution_count": 10,
   "id": "532dfea9",
   "metadata": {},
   "outputs": [],
   "source": [
    "def bestsubset(X, Y):\n",
    "    RSS_list, numb_features, feature_list = [], [], []\n",
    "\n",
    "    for m in range(1,len(X.columns) + 1):\n",
    "        best_RSS = np.inf\n",
    "        \n",
    "        # Loop over all possible combinations: from n choose m (where n is the number of columns)\n",
    "        for combo in itertools.combinations(X.columns, m):\n",
    "            tmp_X = X[list(combo)]\n",
    "            tmp_model = lm()\n",
    "            tmp_model.fit(tmp_X, Y)\n",
    "            tmp_RSS = mean_squared_error(Y, tmp_model.predict(tmp_X)) * len(Y)\n",
    "            \n",
    "            if tmp_RSS < best_RSS:\n",
    "                best_RSS = tmp_RSS\n",
    "                best_varset = combo\n",
    "        \n",
    "        RSS_list.append(best_RSS)                  \n",
    "        feature_list.append(best_varset)          \n",
    "        numb_features.append(len(best_varset))   \n",
    "            \n",
    "    return pd.DataFrame({'msize': numb_features,\n",
    "                       'RSS': RSS_list, \n",
    "                       'features':feature_list}) "
   ]
  },
  {
   "cell_type": "code",
   "execution_count": 12,
   "id": "60aac6f8",
   "metadata": {},
   "outputs": [
    {
     "data": {
      "text/html": [
       "<div>\n",
       "<style scoped>\n",
       "    .dataframe tbody tr th:only-of-type {\n",
       "        vertical-align: middle;\n",
       "    }\n",
       "\n",
       "    .dataframe tbody tr th {\n",
       "        vertical-align: top;\n",
       "    }\n",
       "\n",
       "    .dataframe thead th {\n",
       "        text-align: right;\n",
       "    }\n",
       "</style>\n",
       "<table border=\"1\" class=\"dataframe\">\n",
       "  <thead>\n",
       "    <tr style=\"text-align: right;\">\n",
       "      <th></th>\n",
       "      <th>msize</th>\n",
       "      <th>RSS</th>\n",
       "      <th>features</th>\n",
       "    </tr>\n",
       "  </thead>\n",
       "  <tbody>\n",
       "    <tr>\n",
       "      <th>0</th>\n",
       "      <td>1</td>\n",
       "      <td>44.528583</td>\n",
       "      <td>(lcavol,)</td>\n",
       "    </tr>\n",
       "    <tr>\n",
       "      <th>1</th>\n",
       "      <td>2</td>\n",
       "      <td>37.091846</td>\n",
       "      <td>(lcavol, lweight)</td>\n",
       "    </tr>\n",
       "    <tr>\n",
       "      <th>2</th>\n",
       "      <td>3</td>\n",
       "      <td>34.907749</td>\n",
       "      <td>(lcavol, lweight, svi)</td>\n",
       "    </tr>\n",
       "    <tr>\n",
       "      <th>3</th>\n",
       "      <td>4</td>\n",
       "      <td>32.814995</td>\n",
       "      <td>(lcavol, lweight, lbph, svi)</td>\n",
       "    </tr>\n",
       "    <tr>\n",
       "      <th>4</th>\n",
       "      <td>5</td>\n",
       "      <td>32.069447</td>\n",
       "      <td>(lcavol, lweight, lbph, svi, pgg45)</td>\n",
       "    </tr>\n",
       "    <tr>\n",
       "      <th>5</th>\n",
       "      <td>6</td>\n",
       "      <td>30.539778</td>\n",
       "      <td>(lcavol, lweight, lbph, svi, lcp, pgg45)</td>\n",
       "    </tr>\n",
       "    <tr>\n",
       "      <th>6</th>\n",
       "      <td>7</td>\n",
       "      <td>29.437300</td>\n",
       "      <td>(lcavol, lweight, age, lbph, svi, lcp, pgg45)</td>\n",
       "    </tr>\n",
       "    <tr>\n",
       "      <th>7</th>\n",
       "      <td>8</td>\n",
       "      <td>29.426384</td>\n",
       "      <td>(lcavol, lweight, age, lbph, svi, lcp, gleason...</td>\n",
       "    </tr>\n",
       "  </tbody>\n",
       "</table>\n",
       "</div>"
      ],
      "text/plain": [
       "   msize        RSS                                           features\n",
       "0      1  44.528583                                          (lcavol,)\n",
       "1      2  37.091846                                  (lcavol, lweight)\n",
       "2      3  34.907749                             (lcavol, lweight, svi)\n",
       "3      4  32.814995                       (lcavol, lweight, lbph, svi)\n",
       "4      5  32.069447                (lcavol, lweight, lbph, svi, pgg45)\n",
       "5      6  30.539778           (lcavol, lweight, lbph, svi, lcp, pgg45)\n",
       "6      7  29.437300      (lcavol, lweight, age, lbph, svi, lcp, pgg45)\n",
       "7      8  29.426384  (lcavol, lweight, age, lbph, svi, lcp, gleason..."
      ]
     },
     "execution_count": 12,
     "metadata": {},
     "output_type": "execute_result"
    }
   ],
   "source": [
    "rs = bestsubset(X_train, Y_train)\n",
    "rs"
   ]
  },
  {
   "cell_type": "code",
   "execution_count": 24,
   "id": "885864b4",
   "metadata": {},
   "outputs": [
    {
     "data": {
      "text/plain": [
       "15.495404626758045"
      ]
     },
     "execution_count": 24,
     "metadata": {},
     "output_type": "execute_result"
    }
   ],
   "source": [
    "X_train_AIC = X_train[list(rs['features'].iloc[6])]\n",
    "X_test_AIC = X_test[list(rs['features'].iloc[6])]\n",
    "model = lm()\n",
    "model.fit(X_train_AIC, Y_train)\n",
    "RSS = mean_squared_error(Y_test, model.predict(X_test_AIC)) * len(Y_test)\n",
    "RSS"
   ]
  },
  {
   "cell_type": "code",
   "execution_count": 25,
   "id": "05d216b4",
   "metadata": {},
   "outputs": [
    {
     "data": {
      "text/plain": [
       "14.774470430415109"
      ]
     },
     "execution_count": 25,
     "metadata": {},
     "output_type": "execute_result"
    }
   ],
   "source": [
    "X_train_BIC = X_train[list(rs['features'].iloc[1])]\n",
    "X_test_BIC = X_test[list(rs['features'].iloc[1])]\n",
    "model = lm()\n",
    "model.fit(X_train_BIC, Y_train)\n",
    "RSS = mean_squared_error(Y_test, model.predict(X_test_BIC)) * len(Y_test)\n",
    "RSS"
   ]
  },
  {
   "cell_type": "code",
   "execution_count": 13,
   "id": "1a08700c",
   "metadata": {},
   "outputs": [
    {
     "data": {
      "image/png": "[encoded data removed]",
      "text/plain": [
       "<Figure size 1152x432 with 2 Axes>"
      ]
     },
     "metadata": {
      "needs_background": "light"
     },
     "output_type": "display_data"
    }
   ],
   "source": [
    "n = len(Y_train)\n",
    "Aic = n*np.log(rs.RSS/n) + 2*rs.msize\n",
    "Bic = n*np.log(rs.RSS/n) + rs.msize*np.log(n)\n",
    "\n",
    "fig = plt.figure(figsize = (16,6))\n",
    "ax = fig.add_subplot(1, 2, 1)\n",
    "\n",
    "ax.scatter(rs.msize, Aic, alpha = 1, color = 'blue' )\n",
    "ax.set_xlabel('No. of Features')\n",
    "ax.set_ylabel('AIC')\n",
    "ax.set_title('AIC - Best subset selection')\n",
    "\n",
    "\n",
    "ax = fig.add_subplot(1, 2, 2)\n",
    "ax.scatter(rs.msize, Bic, alpha = .5, color = 'red' )\n",
    "ax.set_xlabel('No. of Features')\n",
    "ax.set_ylabel('BIC')\n",
    "ax.set_title('BIC - Best subset selection')\n",
    "\n",
    "plt.show()"
   ]
  },
  {
   "cell_type": "code",
   "execution_count": null,
   "id": "5c893253",
   "metadata": {},
   "outputs": [],
   "source": []
  }
 ],
 "metadata": {
  "kernelspec": {
   "display_name": "Python 3 (ipykernel)",
   "language": "python",
   "name": "python3"
  },
  "language_info": {
   "codemirror_mode": {
    "name": "ipython",
    "version": 3
   },
   "file_extension": ".py",
   "mimetype": "text/x-python",
   "name": "python",
   "nbconvert_exporter": "python",
   "pygments_lexer": "ipython3",
   "version": "3.8.10"
  }
 },
 "nbformat": 4,
 "nbformat_minor": 5
}
