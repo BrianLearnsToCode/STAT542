{
 "cells": [
  {
   "cell_type": "code",
   "execution_count": 2,
   "id": "12948a27",
   "metadata": {},
   "outputs": [],
   "source": [
    "import pandas as pd\n",
    "from sklearn.pipeline import make_pipeline\n",
    "from sklearn.preprocessing import StandardScaler\n",
    "from sklearn.svm import SVC\n",
    "from sklearn.metrics import confusion_matrix\n",
    "import numpy as np\n",
    "\n"
   ]
  },
  {
   "cell_type": "code",
   "execution_count": 4,
   "id": "cdd03b94",
   "metadata": {},
   "outputs": [],
   "source": [
    "# Load the dataset\n",
    "url = \"https://liangfgithub.github.io/Data/spam.txt\"\n",
    "spam = pd.read_table(url, sep=\"\\s+\", header=None)\n",
    "\n",
    "\n"
   ]
  },
  {
   "cell_type": "code",
   "execution_count": 5,
   "id": "de82ff3b",
   "metadata": {},
   "outputs": [],
   "source": [
    "testID = list(range(0, 100)) + list(range(1900, 1960))\n",
    "spam_test = spam.loc[testID, :]\n",
    "spam_train = spam.drop(testID)\n",
    "X = spam_train.drop(57, axis=1)\n",
    "y = spam_train[57]\n",
    "Xtest = spam_test.drop(57, axis=1)\n",
    "ytest = spam_test[57]\n",
    "\n",
    "sc = StandardScaler()\n",
    "sc.fit(X)\n",
    "sc.scale_ = np.std(X, axis=0, ddof=1).to_list()\n",
    "newX = sc.transform(X)\n",
    "newXtest = sc.transform(Xtest)"
   ]
  },
  {
   "cell_type": "code",
   "execution_count": 6,
   "id": "50801a17",
   "metadata": {},
   "outputs": [
    {
     "name": "stdout",
     "output_type": "stream",
     "text": [
      "[[2616  112]\n",
      " [ 179 1534]]\n",
      "Train Errors: 291\n",
      "[[58  2]\n",
      " [12 88]]\n",
      "Train Errors: 14\n",
      "Number of SVs: 888\n"
     ]
    }
   ],
   "source": [
    "cost = 1\n",
    "clf = SVC(kernel='linear', C=cost)\n",
    "clf.fit(newX, y)\n",
    "\n",
    "y_pred = clf.predict(newX)\n",
    "ctable_train = confusion_matrix(y, y_pred)\n",
    "print(ctable_train)\n",
    "print(f\"Train Errors: {ctable_train[0, 1] + ctable_train[1, 0]}\")\n",
    "\n",
    "ytest_pred = clf.predict(newXtest)\n",
    "ctable_test = confusion_matrix(ytest, ytest_pred)\n",
    "print(ctable_test)\n",
    "print(f\"Train Errors: {ctable_test[0, 1] + ctable_test[1, 0]}\")\n",
    "\n",
    "num_SVs = sum(clf.n_support_)\n",
    "print(f\"Number of SVs: {num_SVs}\")"
   ]
  },
  {
   "cell_type": "code",
   "execution_count": 10,
   "id": "51640e4b",
   "metadata": {},
   "outputs": [
    {
     "name": "stdout",
     "output_type": "stream",
     "text": [
      "[[2643   85]\n",
      " [ 147 1566]]\n",
      "Train Errors: 232\n",
      "[[56  4]\n",
      " [10 90]]\n",
      "Train Errors: 14\n",
      "Number of SVs: 1241\n"
     ]
    }
   ],
   "source": [
    "cost = 1\n",
    "clf = SVC(C=cost)\n",
    "clf.fit(newX, y)\n",
    "\n",
    "y_pred = clf.predict(newX)\n",
    "ctable_train = confusion_matrix(y, y_pred)\n",
    "print(ctable_train)\n",
    "print(f\"Train Errors: {ctable_train[0, 1] + ctable_train[1, 0]}\")\n",
    "\n",
    "ytest_pred = clf.predict(newXtest)\n",
    "ctable_test = confusion_matrix(ytest, ytest_pred)\n",
    "print(ctable_test)\n",
    "print(f\"Train Errors: {ctable_test[0, 1] + ctable_test[1, 0]}\")\n",
    "\n",
    "num_SVs = sum(clf.n_support_)\n",
    "print(f\"Number of SVs: {num_SVs}\")"
   ]
  },
  {
   "cell_type": "code",
   "execution_count": 7,
   "id": "5c31f3af",
   "metadata": {},
   "outputs": [
    {
     "name": "stdout",
     "output_type": "stream",
     "text": [
      "[[2618  110]\n",
      " [ 178 1535]]\n",
      "Train Errors: 288\n",
      "[[57  3]\n",
      " [11 89]]\n",
      "Train Errors: 14\n",
      "Number of SVs: 869\n"
     ]
    }
   ],
   "source": [
    "cost = 10\n",
    "clf = SVC(kernel='linear', C=cost)\n",
    "clf.fit(newX, y)\n",
    "\n",
    "y_pred = clf.predict(newX)\n",
    "ctable_train = confusion_matrix(y, y_pred)\n",
    "print(ctable_train)\n",
    "print(f\"Train Errors: {ctable_train[0, 1] + ctable_train[1, 0]}\")\n",
    "\n",
    "ytest_pred = clf.predict(newXtest)\n",
    "ctable_test = confusion_matrix(ytest, ytest_pred)\n",
    "print(ctable_test)\n",
    "print(f\"Train Errors: {ctable_test[0, 1] + ctable_test[1, 0]}\")\n",
    "\n",
    "num_SVs = sum(clf.n_support_)\n",
    "print(f\"Number of SVs: {num_SVs}\")"
   ]
  },
  {
   "cell_type": "code",
   "execution_count": 11,
   "id": "114ae435",
   "metadata": {},
   "outputs": [
    {
     "name": "stdout",
     "output_type": "stream",
     "text": [
      "[[2681   47]\n",
      " [  99 1614]]\n",
      "Train Errors: 146\n",
      "[[57  3]\n",
      " [11 89]]\n",
      "Train Errors: 14\n",
      "Number of SVs: 1007\n"
     ]
    }
   ],
   "source": [
    "cost = 10\n",
    "clf = SVC(C=cost)\n",
    "clf.fit(newX, y)\n",
    "\n",
    "y_pred = clf.predict(newX)\n",
    "ctable_train = confusion_matrix(y, y_pred)\n",
    "print(ctable_train)\n",
    "print(f\"Train Errors: {ctable_train[0, 1] + ctable_train[1, 0]}\")\n",
    "\n",
    "ytest_pred = clf.predict(newXtest)\n",
    "ctable_test = confusion_matrix(ytest, ytest_pred)\n",
    "print(ctable_test)\n",
    "print(f\"Train Errors: {ctable_test[0, 1] + ctable_test[1, 0]}\")\n",
    "\n",
    "num_SVs = sum(clf.n_support_)\n",
    "print(f\"Number of SVs: {num_SVs}\")"
   ]
  },
  {
   "cell_type": "code",
   "execution_count": 8,
   "id": "6eb20e84",
   "metadata": {},
   "outputs": [
    {
     "name": "stdout",
     "output_type": "stream",
     "text": [
      "[[2616  112]\n",
      " [ 178 1535]]\n",
      "Train Errors: 290\n",
      "[[57  3]\n",
      " [11 89]]\n",
      "Train Errors: 14\n",
      "Number of SVs: 857\n"
     ]
    }
   ],
   "source": [
    "cost = 50\n",
    "clf = SVC(kernel='linear', C=cost)\n",
    "clf.fit(newX, y)\n",
    "\n",
    "y_pred = clf.predict(newX)\n",
    "ctable_train = confusion_matrix(y, y_pred)\n",
    "print(ctable_train)\n",
    "print(f\"Train Errors: {ctable_train[0, 1] + ctable_train[1, 0]}\")\n",
    "\n",
    "ytest_pred = clf.predict(newXtest)\n",
    "ctable_test = confusion_matrix(ytest, ytest_pred)\n",
    "print(ctable_test)\n",
    "print(f\"Train Errors: {ctable_test[0, 1] + ctable_test[1, 0]}\")\n",
    "\n",
    "num_SVs = sum(clf.n_support_)\n",
    "print(f\"Number of SVs: {num_SVs}\")"
   ]
  },
  {
   "cell_type": "code",
   "execution_count": 12,
   "id": "18e7d3cd",
   "metadata": {},
   "outputs": [
    {
     "name": "stdout",
     "output_type": "stream",
     "text": [
      "[[2701   27]\n",
      " [  63 1650]]\n",
      "Train Errors: 90\n",
      "[[57  3]\n",
      " [14 86]]\n",
      "Train Errors: 17\n",
      "Number of SVs: 965\n"
     ]
    }
   ],
   "source": [
    "cost = 50\n",
    "clf = SVC(C=cost)\n",
    "clf.fit(newX, y)\n",
    "\n",
    "y_pred = clf.predict(newX)\n",
    "ctable_train = confusion_matrix(y, y_pred)\n",
    "print(ctable_train)\n",
    "print(f\"Train Errors: {ctable_train[0, 1] + ctable_train[1, 0]}\")\n",
    "\n",
    "ytest_pred = clf.predict(newXtest)\n",
    "ctable_test = confusion_matrix(ytest, ytest_pred)\n",
    "print(ctable_test)\n",
    "print(f\"Train Errors: {ctable_test[0, 1] + ctable_test[1, 0]}\")\n",
    "\n",
    "num_SVs = sum(clf.n_support_)\n",
    "print(f\"Number of SVs: {num_SVs}\")"
   ]
  },
  {
   "cell_type": "code",
   "execution_count": null,
   "id": "f892193d",
   "metadata": {},
   "outputs": [],
   "source": []
  }
 ],
 "metadata": {
  "kernelspec": {
   "display_name": "Python 3 (ipykernel)",
   "language": "python",
   "name": "python3"
  },
  "language_info": {
   "codemirror_mode": {
    "name": "ipython",
    "version": 3
   },
   "file_extension": ".py",
   "mimetype": "text/x-python",
   "name": "python",
   "nbconvert_exporter": "python",
   "pygments_lexer": "ipython3",
   "version": "3.8.10"
  }
 },
 "nbformat": 4,
 "nbformat_minor": 5
}
