{
 "cells": [
  {
   "cell_type": "code",
   "execution_count": 1,
   "id": "f6a88d63",
   "metadata": {},
   "outputs": [],
   "source": [
    "import numpy as np\n",
    "import pandas as pd\n",
    "import matplotlib.pyplot as plt\n",
    "\n",
    "import statsmodels.api as sm\n",
    "from sklearn.linear_model import LinearRegression"
   ]
  },
  {
   "cell_type": "code",
   "execution_count": 6,
   "id": "c150f1fd",
   "metadata": {},
   "outputs": [],
   "source": [
    "# copy from ISLP package\n",
    "def summarize(results,\n",
    "              conf_int=False):\n",
    "    \"\"\"\n",
    "       https://github.com/intro-stat-learning/ISLP/blob/main/ISLP/models/__init__.py\n",
    "    \"\"\"\n",
    "    tab = results.summary().tables[1]\n",
    "    results_table = pd.read_html(tab.as_html(),\n",
    "                                 index_col=0,\n",
    "                                 header=0)[0]\n",
    "    if not conf_int:\n",
    "        columns = ['coef', 'std err', 't','P>|t|']\n",
    "        return results_table[results_table.columns[:-2]]\n",
    "    return results_table\n",
    "\n",
    "# converted from R's poly()\n",
    "# ref: https://stackoverflow.com/questions/39031172/how-poly-generates-orthogonal-polynomials-how-to-understand-the-coefs-ret\n",
    "# compute orthogonal polynomials\n",
    "def poly(x, degree):\n",
    "    x_mean = x.mean(axis=0)\n",
    "    x = x - x_mean\n",
    "    Z = np.power.outer(x, np.arange(0, degree+1))\n",
    "\n",
    "    # orthogonalize\n",
    "    x = x.reshape(-1, 1)\n",
    "    qr = np.linalg.qr(Z, mode='complete')\n",
    "    z = np.zeros_like(Z)\n",
    "    np.fill_diagonal(z, np.diag(qr[1]))\n",
    "    Z = qr[0] @ z\n",
    "    norm2 = (Z ** 2.0).sum(axis=0)\n",
    "    alpha = (x * Z ** 2.0).sum(axis=0) / norm2 + x_mean\n",
    "    Z = Z / np.sqrt(norm2)\n",
    "    norm2 = np.insert(norm2, 0, 1.0, axis=0)\n",
    "\n",
    "    return Z[:, 1:], alpha[:-1], norm2\n",
    "\n",
    "\n",
    "def poly_predict(x_new, degree, alpha, norm2):\n",
    "    n = x_new.shape[0]\n",
    "    Z = np.ones((n, degree + 1))\n",
    "    Z[:, 1] = x_new - alpha[0]\n",
    "    for i in range(1, degree):\n",
    "        Z[:, i + 1] = (x_new - alpha[i]) * Z[:, i]\n",
    "        Z[:, i + 1] -= (norm2[i + 1] / norm2[i]) * Z[:, i - 1]\n",
    "\n",
    "    Z = Z / np.sqrt(norm2[1:])\n",
    "\n",
    "    return Z[:, 1:]"
   ]
  },
  {
   "cell_type": "code",
   "execution_count": 7,
   "id": "438cc145",
   "metadata": {},
   "outputs": [],
   "source": [
    "data = pd.read_csv('http://liangfgithub.github.io/Data/noxData.csv')"
   ]
  },
  {
   "cell_type": "code",
   "execution_count": 8,
   "id": "9e3eef2d",
   "metadata": {},
   "outputs": [
    {
     "data": {
      "text/html": [
       "<div>\n",
       "<style scoped>\n",
       "    .dataframe tbody tr th:only-of-type {\n",
       "        vertical-align: middle;\n",
       "    }\n",
       "\n",
       "    .dataframe tbody tr th {\n",
       "        vertical-align: top;\n",
       "    }\n",
       "\n",
       "    .dataframe thead th {\n",
       "        text-align: right;\n",
       "    }\n",
       "</style>\n",
       "<table border=\"1\" class=\"dataframe\">\n",
       "  <thead>\n",
       "    <tr style=\"text-align: right;\">\n",
       "      <th></th>\n",
       "      <th>dis</th>\n",
       "      <th>nox</th>\n",
       "    </tr>\n",
       "  </thead>\n",
       "  <tbody>\n",
       "    <tr>\n",
       "      <th>count</th>\n",
       "      <td>506.000000</td>\n",
       "      <td>506.000000</td>\n",
       "    </tr>\n",
       "    <tr>\n",
       "      <th>mean</th>\n",
       "      <td>3.795043</td>\n",
       "      <td>0.554695</td>\n",
       "    </tr>\n",
       "    <tr>\n",
       "      <th>std</th>\n",
       "      <td>2.105710</td>\n",
       "      <td>0.115878</td>\n",
       "    </tr>\n",
       "    <tr>\n",
       "      <th>min</th>\n",
       "      <td>1.129600</td>\n",
       "      <td>0.385000</td>\n",
       "    </tr>\n",
       "    <tr>\n",
       "      <th>25%</th>\n",
       "      <td>2.100175</td>\n",
       "      <td>0.449000</td>\n",
       "    </tr>\n",
       "    <tr>\n",
       "      <th>50%</th>\n",
       "      <td>3.207450</td>\n",
       "      <td>0.538000</td>\n",
       "    </tr>\n",
       "    <tr>\n",
       "      <th>75%</th>\n",
       "      <td>5.188425</td>\n",
       "      <td>0.624000</td>\n",
       "    </tr>\n",
       "    <tr>\n",
       "      <th>max</th>\n",
       "      <td>12.126500</td>\n",
       "      <td>0.871000</td>\n",
       "    </tr>\n",
       "  </tbody>\n",
       "</table>\n",
       "</div>"
      ],
      "text/plain": [
       "              dis         nox\n",
       "count  506.000000  506.000000\n",
       "mean     3.795043    0.554695\n",
       "std      2.105710    0.115878\n",
       "min      1.129600    0.385000\n",
       "25%      2.100175    0.449000\n",
       "50%      3.207450    0.538000\n",
       "75%      5.188425    0.624000\n",
       "max     12.126500    0.871000"
      ]
     },
     "execution_count": 8,
     "metadata": {},
     "output_type": "execute_result"
    }
   ],
   "source": [
    "data.describe()"
   ]
  },
  {
   "cell_type": "code",
   "execution_count": 13,
   "id": "978cfe90",
   "metadata": {},
   "outputs": [],
   "source": [
    "X = data['dis'].to_numpy()\n",
    "y = data['nox']"
   ]
  },
  {
   "cell_type": "code",
   "execution_count": 28,
   "id": "f9c42a06",
   "metadata": {},
   "outputs": [
    {
     "data": {
      "text/html": [
       "<table class=\"simpletable\">\n",
       "<caption>OLS Regression Results</caption>\n",
       "<tr>\n",
       "  <th>Dep. Variable:</th>           <td>nox</td>       <th>  R-squared:         </th> <td>   0.715</td> \n",
       "</tr>\n",
       "<tr>\n",
       "  <th>Model:</th>                   <td>OLS</td>       <th>  Adj. R-squared:    </th> <td>   0.713</td> \n",
       "</tr>\n",
       "<tr>\n",
       "  <th>Method:</th>             <td>Least Squares</td>  <th>  F-statistic:       </th> <td>   314.1</td> \n",
       "</tr>\n",
       "<tr>\n",
       "  <th>Date:</th>             <td>Fri, 24 Nov 2023</td> <th>  Prob (F-statistic):</th> <td>5.21e-135</td>\n",
       "</tr>\n",
       "<tr>\n",
       "  <th>Time:</th>                 <td>21:15:47</td>     <th>  Log-Likelihood:    </th> <td>  690.59</td> \n",
       "</tr>\n",
       "<tr>\n",
       "  <th>No. Observations:</th>      <td>   506</td>      <th>  AIC:               </th> <td>  -1371.</td> \n",
       "</tr>\n",
       "<tr>\n",
       "  <th>Df Residuals:</th>          <td>   501</td>      <th>  BIC:               </th> <td>  -1350.</td> \n",
       "</tr>\n",
       "<tr>\n",
       "  <th>Df Model:</th>              <td>     4</td>      <th>                     </th>     <td> </td>    \n",
       "</tr>\n",
       "<tr>\n",
       "  <th>Covariance Type:</th>      <td>nonrobust</td>    <th>                     </th>     <td> </td>    \n",
       "</tr>\n",
       "</table>\n",
       "<table class=\"simpletable\">\n",
       "<tr>\n",
       "    <td></td>       <th>coef</th>     <th>std err</th>      <th>t</th>      <th>P>|t|</th>  <th>[0.025</th>    <th>0.975]</th>  \n",
       "</tr>\n",
       "<tr>\n",
       "  <th>const</th> <td>    0.9522</td> <td>    0.039</td> <td>   24.172</td> <td> 0.000</td> <td>    0.875</td> <td>    1.030</td>\n",
       "</tr>\n",
       "<tr>\n",
       "  <th>x1</th>    <td>   -0.2008</td> <td>    0.038</td> <td>   -5.333</td> <td> 0.000</td> <td>   -0.275</td> <td>   -0.127</td>\n",
       "</tr>\n",
       "<tr>\n",
       "  <th>x2</th>    <td>    0.0280</td> <td>    0.012</td> <td>    2.395</td> <td> 0.017</td> <td>    0.005</td> <td>    0.051</td>\n",
       "</tr>\n",
       "<tr>\n",
       "  <th>x3</th>    <td>   -0.0017</td> <td>    0.001</td> <td>   -1.151</td> <td> 0.250</td> <td>   -0.004</td> <td>    0.001</td>\n",
       "</tr>\n",
       "<tr>\n",
       "  <th>x4</th>    <td> 3.244e-05</td> <td> 6.01e-05</td> <td>    0.540</td> <td> 0.589</td> <td>-8.56e-05</td> <td>    0.000</td>\n",
       "</tr>\n",
       "</table>\n",
       "<table class=\"simpletable\">\n",
       "<tr>\n",
       "  <th>Omnibus:</th>       <td>63.922</td> <th>  Durbin-Watson:     </th> <td>   0.284</td>\n",
       "</tr>\n",
       "<tr>\n",
       "  <th>Prob(Omnibus):</th> <td> 0.000</td> <th>  Jarque-Bera (JB):  </th> <td>  87.059</td>\n",
       "</tr>\n",
       "<tr>\n",
       "  <th>Skew:</th>          <td> 0.913</td> <th>  Prob(JB):          </th> <td>1.25e-19</td>\n",
       "</tr>\n",
       "<tr>\n",
       "  <th>Kurtosis:</th>      <td> 3.894</td> <th>  Cond. No.          </th> <td>4.17e+04</td>\n",
       "</tr>\n",
       "</table><br/><br/>Notes:<br/>[1] Standard Errors assume that the covariance matrix of the errors is correctly specified.<br/>[2] The condition number is large, 4.17e+04. This might indicate that there are<br/>strong multicollinearity or other numerical problems."
      ],
      "text/plain": [
       "<class 'statsmodels.iolib.summary.Summary'>\n",
       "\"\"\"\n",
       "                            OLS Regression Results                            \n",
       "==============================================================================\n",
       "Dep. Variable:                    nox   R-squared:                       0.715\n",
       "Model:                            OLS   Adj. R-squared:                  0.713\n",
       "Method:                 Least Squares   F-statistic:                     314.1\n",
       "Date:                Fri, 24 Nov 2023   Prob (F-statistic):          5.21e-135\n",
       "Time:                        21:15:47   Log-Likelihood:                 690.59\n",
       "No. Observations:                 506   AIC:                            -1371.\n",
       "Df Residuals:                     501   BIC:                            -1350.\n",
       "Df Model:                           4                                         \n",
       "Covariance Type:            nonrobust                                         \n",
       "==============================================================================\n",
       "                 coef    std err          t      P>|t|      [0.025      0.975]\n",
       "------------------------------------------------------------------------------\n",
       "const          0.9522      0.039     24.172      0.000       0.875       1.030\n",
       "x1            -0.2008      0.038     -5.333      0.000      -0.275      -0.127\n",
       "x2             0.0280      0.012      2.395      0.017       0.005       0.051\n",
       "x3            -0.0017      0.001     -1.151      0.250      -0.004       0.001\n",
       "x4          3.244e-05   6.01e-05      0.540      0.589   -8.56e-05       0.000\n",
       "==============================================================================\n",
       "Omnibus:                       63.922   Durbin-Watson:                   0.284\n",
       "Prob(Omnibus):                  0.000   Jarque-Bera (JB):               87.059\n",
       "Skew:                           0.913   Prob(JB):                     1.25e-19\n",
       "Kurtosis:                       3.894   Cond. No.                     4.17e+04\n",
       "==============================================================================\n",
       "\n",
       "Notes:\n",
       "[1] Standard Errors assume that the covariance matrix of the errors is correctly specified.\n",
       "[2] The condition number is large, 4.17e+04. This might indicate that there are\n",
       "strong multicollinearity or other numerical problems.\n",
       "\"\"\""
      ]
     },
     "execution_count": 28,
     "metadata": {},
     "output_type": "execute_result"
    }
   ],
   "source": [
    "X1 = np.power.outer(X, np.arange(1, 5))\n",
    "M1 = sm.OLS(y, sm.add_constant(X1)).fit()\n",
    "M1.summary()"
   ]
  },
  {
   "cell_type": "code",
   "execution_count": 21,
   "id": "e81e42be",
   "metadata": {},
   "outputs": [
    {
     "data": {
      "text/plain": [
       "array([[  4.09      ,  16.7281    ,  68.417929  ],\n",
       "       [  4.9671    ,  24.67208241, 122.54870054],\n",
       "       [  4.9671    ,  24.67208241, 122.54870054],\n",
       "       ...,\n",
       "       [  2.1675    ,   4.69805625,  10.18303692],\n",
       "       [  2.3889    ,   5.70684321,  13.63307774],\n",
       "       [  2.505     ,   6.275025  ,  15.71893762]])"
      ]
     },
     "execution_count": 21,
     "metadata": {},
     "output_type": "execute_result"
    }
   ],
   "source": [
    "X1"
   ]
  },
  {
   "cell_type": "code",
   "execution_count": 32,
   "id": "7b06f77e",
   "metadata": {},
   "outputs": [
    {
     "data": {
      "text/plain": [
       "(0.9522223280181946,\n",
       " array([-2.00803588e-01,  2.80498397e-02, -1.65643734e-03,  3.24433828e-05]))"
      ]
     },
     "execution_count": 32,
     "metadata": {},
     "output_type": "execute_result"
    }
   ],
   "source": [
    "fit1 = LinearRegression().fit(X1, y)\n",
    "fit1.intercept_, fit1.coef_"
   ]
  },
  {
   "cell_type": "code",
   "execution_count": 33,
   "id": "019e795e",
   "metadata": {},
   "outputs": [
    {
     "data": {
      "text/plain": [
       "1.9329813272985945"
      ]
     },
     "execution_count": 33,
     "metadata": {},
     "output_type": "execute_result"
    }
   ],
   "source": [
    "np.sum((fit1.predict(X1) - y)**2)"
   ]
  },
  {
   "cell_type": "code",
   "execution_count": 34,
   "id": "5d3a581a",
   "metadata": {},
   "outputs": [
    {
     "data": {
      "text/plain": [
       "array([0.44145119])"
      ]
     },
     "execution_count": 34,
     "metadata": {},
     "output_type": "execute_result"
    }
   ],
   "source": [
    "X2 = np.array([[6,6**2,6**3,6**4]])\n",
    "fit1.predict(X2)"
   ]
  },
  {
   "cell_type": "code",
   "execution_count": null,
   "id": "ff8ae005",
   "metadata": {},
   "outputs": [],
   "source": []
  }
 ],
 "metadata": {
  "kernelspec": {
   "display_name": "Python 3 (ipykernel)",
   "language": "python",
   "name": "python3"
  },
  "language_info": {
   "codemirror_mode": {
    "name": "ipython",
    "version": 3
   },
   "file_extension": ".py",
   "mimetype": "text/x-python",
   "name": "python",
   "nbconvert_exporter": "python",
   "pygments_lexer": "ipython3",
   "version": "3.8.10"
  }
 },
 "nbformat": 4,
 "nbformat_minor": 5
}
