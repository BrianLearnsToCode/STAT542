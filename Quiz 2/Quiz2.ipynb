{
 "cells": [
  {
   "cell_type": "code",
   "execution_count": 1,
   "id": "86c0d7b3",
   "metadata": {},
   "outputs": [],
   "source": [
    "import pandas as pd\n",
    "from sklearn.linear_model import LinearRegression"
   ]
  },
  {
   "cell_type": "code",
   "execution_count": 2,
   "id": "d9ebddee",
   "metadata": {},
   "outputs": [],
   "source": [
    "def compute_r2(X, y):\n",
    "    model = LinearRegression().fit(X, y)\n",
    "    return model.score(X, y)"
   ]
  },
  {
   "cell_type": "code",
   "execution_count": 47,
   "id": "2af884ad",
   "metadata": {},
   "outputs": [],
   "source": [
    "def compute_coef(X, y):\n",
    "    model = LinearRegression().fit(X, y)\n",
    "    return model.coef_"
   ]
  },
  {
   "cell_type": "code",
   "execution_count": 45,
   "id": "29b677ec",
   "metadata": {},
   "outputs": [],
   "source": [
    "def compute_intercept(X, y):\n",
    "    model = LinearRegression().fit(X, y)\n",
    "    return model.intercept"
   ]
  },
  {
   "cell_type": "code",
   "execution_count": 43,
   "id": "e917640b",
   "metadata": {},
   "outputs": [],
   "source": [
    "#url = \"https://liangfgithub.github.io/Data/quiz2_toydata1.dat\"\n",
    "#data1 = pd.read_csv(url, sep=\",\")\n",
    "data1 = pd.read_csv(\"Q2Auto.data\",delim_whitespace=True)"
   ]
  },
  {
   "cell_type": "code",
   "execution_count": 36,
   "id": "91a0488e",
   "metadata": {},
   "outputs": [
    {
     "data": {
      "text/html": [
       "<div>\n",
       "<style scoped>\n",
       "    .dataframe tbody tr th:only-of-type {\n",
       "        vertical-align: middle;\n",
       "    }\n",
       "\n",
       "    .dataframe tbody tr th {\n",
       "        vertical-align: top;\n",
       "    }\n",
       "\n",
       "    .dataframe thead th {\n",
       "        text-align: right;\n",
       "    }\n",
       "</style>\n",
       "<table border=\"1\" class=\"dataframe\">\n",
       "  <thead>\n",
       "    <tr style=\"text-align: right;\">\n",
       "      <th></th>\n",
       "      <th>mpg</th>\n",
       "      <th>cylinders</th>\n",
       "      <th>displacement</th>\n",
       "      <th>horsepower</th>\n",
       "      <th>weight</th>\n",
       "      <th>acceleration</th>\n",
       "      <th>year</th>\n",
       "      <th>origin</th>\n",
       "      <th>name</th>\n",
       "    </tr>\n",
       "  </thead>\n",
       "  <tbody>\n",
       "    <tr>\n",
       "      <th>0</th>\n",
       "      <td>18.0</td>\n",
       "      <td>8</td>\n",
       "      <td>307.0</td>\n",
       "      <td>130.0</td>\n",
       "      <td>3504.0</td>\n",
       "      <td>12.0</td>\n",
       "      <td>70</td>\n",
       "      <td>1</td>\n",
       "      <td>chevrolet chevelle malibu</td>\n",
       "    </tr>\n",
       "    <tr>\n",
       "      <th>1</th>\n",
       "      <td>15.0</td>\n",
       "      <td>8</td>\n",
       "      <td>350.0</td>\n",
       "      <td>165.0</td>\n",
       "      <td>3693.0</td>\n",
       "      <td>11.5</td>\n",
       "      <td>70</td>\n",
       "      <td>1</td>\n",
       "      <td>buick skylark 320</td>\n",
       "    </tr>\n",
       "    <tr>\n",
       "      <th>2</th>\n",
       "      <td>18.0</td>\n",
       "      <td>8</td>\n",
       "      <td>318.0</td>\n",
       "      <td>150.0</td>\n",
       "      <td>3436.0</td>\n",
       "      <td>11.0</td>\n",
       "      <td>70</td>\n",
       "      <td>1</td>\n",
       "      <td>plymouth satellite</td>\n",
       "    </tr>\n",
       "    <tr>\n",
       "      <th>3</th>\n",
       "      <td>16.0</td>\n",
       "      <td>8</td>\n",
       "      <td>304.0</td>\n",
       "      <td>150.0</td>\n",
       "      <td>3433.0</td>\n",
       "      <td>12.0</td>\n",
       "      <td>70</td>\n",
       "      <td>1</td>\n",
       "      <td>amc rebel sst</td>\n",
       "    </tr>\n",
       "    <tr>\n",
       "      <th>4</th>\n",
       "      <td>17.0</td>\n",
       "      <td>8</td>\n",
       "      <td>302.0</td>\n",
       "      <td>140.0</td>\n",
       "      <td>3449.0</td>\n",
       "      <td>10.5</td>\n",
       "      <td>70</td>\n",
       "      <td>1</td>\n",
       "      <td>ford torino</td>\n",
       "    </tr>\n",
       "    <tr>\n",
       "      <th>...</th>\n",
       "      <td>...</td>\n",
       "      <td>...</td>\n",
       "      <td>...</td>\n",
       "      <td>...</td>\n",
       "      <td>...</td>\n",
       "      <td>...</td>\n",
       "      <td>...</td>\n",
       "      <td>...</td>\n",
       "      <td>...</td>\n",
       "    </tr>\n",
       "    <tr>\n",
       "      <th>387</th>\n",
       "      <td>27.0</td>\n",
       "      <td>4</td>\n",
       "      <td>140.0</td>\n",
       "      <td>86.0</td>\n",
       "      <td>2790.0</td>\n",
       "      <td>15.6</td>\n",
       "      <td>82</td>\n",
       "      <td>1</td>\n",
       "      <td>ford mustang gl</td>\n",
       "    </tr>\n",
       "    <tr>\n",
       "      <th>388</th>\n",
       "      <td>44.0</td>\n",
       "      <td>4</td>\n",
       "      <td>97.0</td>\n",
       "      <td>52.0</td>\n",
       "      <td>2130.0</td>\n",
       "      <td>24.6</td>\n",
       "      <td>82</td>\n",
       "      <td>2</td>\n",
       "      <td>vw pickup</td>\n",
       "    </tr>\n",
       "    <tr>\n",
       "      <th>389</th>\n",
       "      <td>32.0</td>\n",
       "      <td>4</td>\n",
       "      <td>135.0</td>\n",
       "      <td>84.0</td>\n",
       "      <td>2295.0</td>\n",
       "      <td>11.6</td>\n",
       "      <td>82</td>\n",
       "      <td>1</td>\n",
       "      <td>dodge rampage</td>\n",
       "    </tr>\n",
       "    <tr>\n",
       "      <th>390</th>\n",
       "      <td>28.0</td>\n",
       "      <td>4</td>\n",
       "      <td>120.0</td>\n",
       "      <td>79.0</td>\n",
       "      <td>2625.0</td>\n",
       "      <td>18.6</td>\n",
       "      <td>82</td>\n",
       "      <td>1</td>\n",
       "      <td>ford ranger</td>\n",
       "    </tr>\n",
       "    <tr>\n",
       "      <th>391</th>\n",
       "      <td>31.0</td>\n",
       "      <td>4</td>\n",
       "      <td>119.0</td>\n",
       "      <td>82.0</td>\n",
       "      <td>2720.0</td>\n",
       "      <td>19.4</td>\n",
       "      <td>82</td>\n",
       "      <td>1</td>\n",
       "      <td>chevy s-10</td>\n",
       "    </tr>\n",
       "  </tbody>\n",
       "</table>\n",
       "<p>392 rows × 9 columns</p>\n",
       "</div>"
      ],
      "text/plain": [
       "      mpg  cylinders  displacement  horsepower  weight  acceleration  year  \\\n",
       "0    18.0          8         307.0       130.0  3504.0          12.0    70   \n",
       "1    15.0          8         350.0       165.0  3693.0          11.5    70   \n",
       "2    18.0          8         318.0       150.0  3436.0          11.0    70   \n",
       "3    16.0          8         304.0       150.0  3433.0          12.0    70   \n",
       "4    17.0          8         302.0       140.0  3449.0          10.5    70   \n",
       "..    ...        ...           ...         ...     ...           ...   ...   \n",
       "387  27.0          4         140.0        86.0  2790.0          15.6    82   \n",
       "388  44.0          4          97.0        52.0  2130.0          24.6    82   \n",
       "389  32.0          4         135.0        84.0  2295.0          11.6    82   \n",
       "390  28.0          4         120.0        79.0  2625.0          18.6    82   \n",
       "391  31.0          4         119.0        82.0  2720.0          19.4    82   \n",
       "\n",
       "     origin                       name  \n",
       "0         1  chevrolet chevelle malibu  \n",
       "1         1          buick skylark 320  \n",
       "2         1         plymouth satellite  \n",
       "3         1              amc rebel sst  \n",
       "4         1                ford torino  \n",
       "..      ...                        ...  \n",
       "387       1            ford mustang gl  \n",
       "388       2                  vw pickup  \n",
       "389       1              dodge rampage  \n",
       "390       1                ford ranger  \n",
       "391       1                 chevy s-10  \n",
       "\n",
       "[392 rows x 9 columns]"
      ]
     },
     "execution_count": 36,
     "metadata": {},
     "output_type": "execute_result"
    }
   ],
   "source": [
    "data1"
   ]
  },
  {
   "cell_type": "markdown",
   "id": "26904939",
   "metadata": {},
   "source": [
    "Question 1\n",
    "\n",
    "Using mpg as response and displacement as predictor, perform a simple linear regression (round to the 2nd decimal place)"
   ]
  },
  {
   "cell_type": "code",
   "execution_count": 50,
   "id": "71b4390f",
   "metadata": {},
   "outputs": [
    {
     "name": "stdout",
     "output_type": "stream",
     "text": [
      "slope y ~ X1 = -0.060051\n"
     ]
    }
   ],
   "source": [
    "X1 = data1[['displacement']]\n",
    "y = data1[['mpg']]\n",
    "coef = compute_coef(X1, y)\n",
    "print(f\"slope y ~ X1 = {coef[0][0]:.6f}\")"
   ]
  },
  {
   "cell_type": "markdown",
   "id": "d95bce03",
   "metadata": {},
   "source": [
    "Question 2\n",
    "\n",
    "Continue with Question 1. The R-square is"
   ]
  },
  {
   "cell_type": "code",
   "execution_count": 51,
   "id": "2de0bc14",
   "metadata": {},
   "outputs": [
    {
     "name": "stdout",
     "output_type": "stream",
     "text": [
      "R-square for y ~ X2 = 0.648229\n"
     ]
    }
   ],
   "source": [
    "r2 = compute_r2(X1, y)\n",
    "print(f\"R-square for y ~ X2 = {r2:.6f}\")"
   ]
  },
  {
   "cell_type": "markdown",
   "id": "b6aa63fb",
   "metadata": {},
   "source": [
    "Question 3\n",
    "\n",
    "Fit a multiple linear regression model using mpg as response and the other seven variables except \"name\" (i.e., cylinders, displacement, horsepower, weight, acceleration, year, origin) as predictors.\n",
    "\n",
    "The coefficient associated with displacement is"
   ]
  },
  {
   "cell_type": "code",
   "execution_count": 52,
   "id": "2a4ac98a",
   "metadata": {},
   "outputs": [
    {
     "name": "stdout",
     "output_type": "stream",
     "text": [
      "coefficients:  [[-0.49337632  0.01989564 -0.01695114 -0.00647404  0.08057584  0.75077268\n",
      "   1.4261405 ]]\n"
     ]
    }
   ],
   "source": [
    "X2 = data1[['cylinders', 'displacement','horsepower', 'weight', 'acceleration', 'year', 'origin']]\n",
    "coef = compute_coef(X2, y)\n",
    "print(\"coefficients: \", coef)"
   ]
  },
  {
   "cell_type": "code",
   "execution_count": null,
   "id": "c2300050",
   "metadata": {},
   "outputs": [],
   "source": []
  },
  {
   "cell_type": "code",
   "execution_count": 57,
   "id": "b4bbc632",
   "metadata": {},
   "outputs": [
    {
     "data": {
      "text/plain": [
       "136.0"
      ]
     },
     "execution_count": 57,
     "metadata": {},
     "output_type": "execute_result"
    }
   ],
   "source": [
    "b0, b1, b2, b3, b4, b5 = 50, 20, 0.07, 35, 0.01, -10\n",
    "def salary(gender, IQ, GPA):\n",
    "    return b0 + b1*GPA + b2*IQ + b3*gender + b4*GPA*IQ + b5*GPA*gender\n",
    "salary(1,100,4)"
   ]
  },
  {
   "cell_type": "code",
   "execution_count": null,
   "id": "e8dffada",
   "metadata": {},
   "outputs": [],
   "source": []
  }
 ],
 "metadata": {
  "kernelspec": {
   "display_name": "Python 3 (ipykernel)",
   "language": "python",
   "name": "python3"
  },
  "language_info": {
   "codemirror_mode": {
    "name": "ipython",
    "version": 3
   },
   "file_extension": ".py",
   "mimetype": "text/x-python",
   "name": "python",
   "nbconvert_exporter": "python",
   "pygments_lexer": "ipython3",
   "version": "3.8.10"
  }
 },
 "nbformat": 4,
 "nbformat_minor": 5
}
