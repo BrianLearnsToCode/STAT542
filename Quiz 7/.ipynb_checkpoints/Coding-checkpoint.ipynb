{
 "cells": [
  {
   "cell_type": "code",
   "execution_count": 1,
   "id": "4825b3c2",
   "metadata": {},
   "outputs": [],
   "source": [
    "import numpy as np\n",
    "import pandas as pd\n",
    "import matplotlib.pyplot as plt\n",
    "import matplotlib.cm as cm\n",
    "\n",
    "from scipy.linalg import sqrtm\n",
    "\n",
    "from sklearn.discriminant_analysis import LinearDiscriminantAnalysis, QuadraticDiscriminantAnalysis\n",
    "from sklearn.metrics import confusion_matrix"
   ]
  },
  {
   "cell_type": "code",
   "execution_count": 4,
   "id": "ad0a21ce",
   "metadata": {},
   "outputs": [],
   "source": [
    "train = pd.read_csv('https://liangfgithub.github.io/Data/zip.train',sep=' ', header=None)\n",
    "test = pd.read_csv('https://liangfgithub.github.io/Data/zip.test',sep=' ', header=None)"
   ]
  },
  {
   "cell_type": "code",
   "execution_count": 6,
   "id": "8e61b46b",
   "metadata": {},
   "outputs": [
    {
     "data": {
      "text/html": [
       "<div>\n",
       "<style scoped>\n",
       "    .dataframe tbody tr th:only-of-type {\n",
       "        vertical-align: middle;\n",
       "    }\n",
       "\n",
       "    .dataframe tbody tr th {\n",
       "        vertical-align: top;\n",
       "    }\n",
       "\n",
       "    .dataframe thead th {\n",
       "        text-align: right;\n",
       "    }\n",
       "</style>\n",
       "<table border=\"1\" class=\"dataframe\">\n",
       "  <thead>\n",
       "    <tr style=\"text-align: right;\">\n",
       "      <th></th>\n",
       "      <th>0</th>\n",
       "      <th>1</th>\n",
       "      <th>2</th>\n",
       "      <th>3</th>\n",
       "      <th>4</th>\n",
       "      <th>5</th>\n",
       "      <th>6</th>\n",
       "      <th>7</th>\n",
       "      <th>8</th>\n",
       "      <th>9</th>\n",
       "      <th>...</th>\n",
       "      <th>248</th>\n",
       "      <th>249</th>\n",
       "      <th>250</th>\n",
       "      <th>251</th>\n",
       "      <th>252</th>\n",
       "      <th>253</th>\n",
       "      <th>254</th>\n",
       "      <th>255</th>\n",
       "      <th>256</th>\n",
       "      <th>257</th>\n",
       "    </tr>\n",
       "  </thead>\n",
       "  <tbody>\n",
       "    <tr>\n",
       "      <th>count</th>\n",
       "      <td>7291.000000</td>\n",
       "      <td>7291.000000</td>\n",
       "      <td>7291.000000</td>\n",
       "      <td>7291.000000</td>\n",
       "      <td>7291.000000</td>\n",
       "      <td>7291.000000</td>\n",
       "      <td>7291.000000</td>\n",
       "      <td>7291.000000</td>\n",
       "      <td>7291.000000</td>\n",
       "      <td>7291.000000</td>\n",
       "      <td>...</td>\n",
       "      <td>7291.000000</td>\n",
       "      <td>7291.000000</td>\n",
       "      <td>7291.000000</td>\n",
       "      <td>7291.000000</td>\n",
       "      <td>7291.000000</td>\n",
       "      <td>7291.000000</td>\n",
       "      <td>7291.000000</td>\n",
       "      <td>7291.000000</td>\n",
       "      <td>7291.000000</td>\n",
       "      <td>0.0</td>\n",
       "    </tr>\n",
       "    <tr>\n",
       "      <th>mean</th>\n",
       "      <td>3.903443</td>\n",
       "      <td>-0.996417</td>\n",
       "      <td>-0.981138</td>\n",
       "      <td>-0.951153</td>\n",
       "      <td>-0.887738</td>\n",
       "      <td>-0.773468</td>\n",
       "      <td>-0.610302</td>\n",
       "      <td>-0.368991</td>\n",
       "      <td>-0.045769</td>\n",
       "      <td>-0.052641</td>\n",
       "      <td>...</td>\n",
       "      <td>0.139823</td>\n",
       "      <td>0.116439</td>\n",
       "      <td>-0.314108</td>\n",
       "      <td>-0.653711</td>\n",
       "      <td>-0.837858</td>\n",
       "      <td>-0.922194</td>\n",
       "      <td>-0.957393</td>\n",
       "      <td>-0.979290</td>\n",
       "      <td>-0.994678</td>\n",
       "      <td>NaN</td>\n",
       "    </tr>\n",
       "    <tr>\n",
       "      <th>std</th>\n",
       "      <td>2.996386</td>\n",
       "      <td>0.051713</td>\n",
       "      <td>0.151202</td>\n",
       "      <td>0.244264</td>\n",
       "      <td>0.360516</td>\n",
       "      <td>0.502659</td>\n",
       "      <td>0.628710</td>\n",
       "      <td>0.716032</td>\n",
       "      <td>0.768304</td>\n",
       "      <td>0.752979</td>\n",
       "      <td>...</td>\n",
       "      <td>0.752984</td>\n",
       "      <td>0.757336</td>\n",
       "      <td>0.725859</td>\n",
       "      <td>0.582555</td>\n",
       "      <td>0.414646</td>\n",
       "      <td>0.300830</td>\n",
       "      <td>0.228700</td>\n",
       "      <td>0.158998</td>\n",
       "      <td>0.066056</td>\n",
       "      <td>NaN</td>\n",
       "    </tr>\n",
       "    <tr>\n",
       "      <th>min</th>\n",
       "      <td>0.000000</td>\n",
       "      <td>-1.000000</td>\n",
       "      <td>-1.000000</td>\n",
       "      <td>-1.000000</td>\n",
       "      <td>-1.000000</td>\n",
       "      <td>-1.000000</td>\n",
       "      <td>-1.000000</td>\n",
       "      <td>-1.000000</td>\n",
       "      <td>-1.000000</td>\n",
       "      <td>-1.000000</td>\n",
       "      <td>...</td>\n",
       "      <td>-1.000000</td>\n",
       "      <td>-1.000000</td>\n",
       "      <td>-1.000000</td>\n",
       "      <td>-1.000000</td>\n",
       "      <td>-1.000000</td>\n",
       "      <td>-1.000000</td>\n",
       "      <td>-1.000000</td>\n",
       "      <td>-1.000000</td>\n",
       "      <td>-1.000000</td>\n",
       "      <td>NaN</td>\n",
       "    </tr>\n",
       "    <tr>\n",
       "      <th>25%</th>\n",
       "      <td>1.000000</td>\n",
       "      <td>-1.000000</td>\n",
       "      <td>-1.000000</td>\n",
       "      <td>-1.000000</td>\n",
       "      <td>-1.000000</td>\n",
       "      <td>-1.000000</td>\n",
       "      <td>-1.000000</td>\n",
       "      <td>-1.000000</td>\n",
       "      <td>-0.999000</td>\n",
       "      <td>-0.950000</td>\n",
       "      <td>...</td>\n",
       "      <td>-0.661500</td>\n",
       "      <td>-0.738000</td>\n",
       "      <td>-1.000000</td>\n",
       "      <td>-1.000000</td>\n",
       "      <td>-1.000000</td>\n",
       "      <td>-1.000000</td>\n",
       "      <td>-1.000000</td>\n",
       "      <td>-1.000000</td>\n",
       "      <td>-1.000000</td>\n",
       "      <td>NaN</td>\n",
       "    </tr>\n",
       "    <tr>\n",
       "      <th>50%</th>\n",
       "      <td>4.000000</td>\n",
       "      <td>-1.000000</td>\n",
       "      <td>-1.000000</td>\n",
       "      <td>-1.000000</td>\n",
       "      <td>-1.000000</td>\n",
       "      <td>-1.000000</td>\n",
       "      <td>-1.000000</td>\n",
       "      <td>-0.719000</td>\n",
       "      <td>0.061000</td>\n",
       "      <td>0.002000</td>\n",
       "      <td>...</td>\n",
       "      <td>0.368000</td>\n",
       "      <td>0.336000</td>\n",
       "      <td>-0.579000</td>\n",
       "      <td>-1.000000</td>\n",
       "      <td>-1.000000</td>\n",
       "      <td>-1.000000</td>\n",
       "      <td>-1.000000</td>\n",
       "      <td>-1.000000</td>\n",
       "      <td>-1.000000</td>\n",
       "      <td>NaN</td>\n",
       "    </tr>\n",
       "    <tr>\n",
       "      <th>75%</th>\n",
       "      <td>7.000000</td>\n",
       "      <td>-1.000000</td>\n",
       "      <td>-1.000000</td>\n",
       "      <td>-1.000000</td>\n",
       "      <td>-1.000000</td>\n",
       "      <td>-0.962000</td>\n",
       "      <td>-0.391000</td>\n",
       "      <td>0.254500</td>\n",
       "      <td>0.696000</td>\n",
       "      <td>0.674500</td>\n",
       "      <td>...</td>\n",
       "      <td>0.835000</td>\n",
       "      <td>0.815000</td>\n",
       "      <td>0.346000</td>\n",
       "      <td>-0.504500</td>\n",
       "      <td>-1.000000</td>\n",
       "      <td>-1.000000</td>\n",
       "      <td>-1.000000</td>\n",
       "      <td>-1.000000</td>\n",
       "      <td>-1.000000</td>\n",
       "      <td>NaN</td>\n",
       "    </tr>\n",
       "    <tr>\n",
       "      <th>max</th>\n",
       "      <td>9.000000</td>\n",
       "      <td>0.638000</td>\n",
       "      <td>1.000000</td>\n",
       "      <td>1.000000</td>\n",
       "      <td>1.000000</td>\n",
       "      <td>1.000000</td>\n",
       "      <td>1.000000</td>\n",
       "      <td>1.000000</td>\n",
       "      <td>1.000000</td>\n",
       "      <td>1.000000</td>\n",
       "      <td>...</td>\n",
       "      <td>1.000000</td>\n",
       "      <td>1.000000</td>\n",
       "      <td>1.000000</td>\n",
       "      <td>1.000000</td>\n",
       "      <td>1.000000</td>\n",
       "      <td>1.000000</td>\n",
       "      <td>1.000000</td>\n",
       "      <td>1.000000</td>\n",
       "      <td>0.592000</td>\n",
       "      <td>NaN</td>\n",
       "    </tr>\n",
       "  </tbody>\n",
       "</table>\n",
       "<p>8 rows × 258 columns</p>\n",
       "</div>"
      ],
      "text/plain": [
       "               0            1            2            3            4    \\\n",
       "count  7291.000000  7291.000000  7291.000000  7291.000000  7291.000000   \n",
       "mean      3.903443    -0.996417    -0.981138    -0.951153    -0.887738   \n",
       "std       2.996386     0.051713     0.151202     0.244264     0.360516   \n",
       "min       0.000000    -1.000000    -1.000000    -1.000000    -1.000000   \n",
       "25%       1.000000    -1.000000    -1.000000    -1.000000    -1.000000   \n",
       "50%       4.000000    -1.000000    -1.000000    -1.000000    -1.000000   \n",
       "75%       7.000000    -1.000000    -1.000000    -1.000000    -1.000000   \n",
       "max       9.000000     0.638000     1.000000     1.000000     1.000000   \n",
       "\n",
       "               5            6            7            8            9    ...  \\\n",
       "count  7291.000000  7291.000000  7291.000000  7291.000000  7291.000000  ...   \n",
       "mean     -0.773468    -0.610302    -0.368991    -0.045769    -0.052641  ...   \n",
       "std       0.502659     0.628710     0.716032     0.768304     0.752979  ...   \n",
       "min      -1.000000    -1.000000    -1.000000    -1.000000    -1.000000  ...   \n",
       "25%      -1.000000    -1.000000    -1.000000    -0.999000    -0.950000  ...   \n",
       "50%      -1.000000    -1.000000    -0.719000     0.061000     0.002000  ...   \n",
       "75%      -0.962000    -0.391000     0.254500     0.696000     0.674500  ...   \n",
       "max       1.000000     1.000000     1.000000     1.000000     1.000000  ...   \n",
       "\n",
       "               248          249          250          251          252  \\\n",
       "count  7291.000000  7291.000000  7291.000000  7291.000000  7291.000000   \n",
       "mean      0.139823     0.116439    -0.314108    -0.653711    -0.837858   \n",
       "std       0.752984     0.757336     0.725859     0.582555     0.414646   \n",
       "min      -1.000000    -1.000000    -1.000000    -1.000000    -1.000000   \n",
       "25%      -0.661500    -0.738000    -1.000000    -1.000000    -1.000000   \n",
       "50%       0.368000     0.336000    -0.579000    -1.000000    -1.000000   \n",
       "75%       0.835000     0.815000     0.346000    -0.504500    -1.000000   \n",
       "max       1.000000     1.000000     1.000000     1.000000     1.000000   \n",
       "\n",
       "               253          254          255          256  257  \n",
       "count  7291.000000  7291.000000  7291.000000  7291.000000  0.0  \n",
       "mean     -0.922194    -0.957393    -0.979290    -0.994678  NaN  \n",
       "std       0.300830     0.228700     0.158998     0.066056  NaN  \n",
       "min      -1.000000    -1.000000    -1.000000    -1.000000  NaN  \n",
       "25%      -1.000000    -1.000000    -1.000000    -1.000000  NaN  \n",
       "50%      -1.000000    -1.000000    -1.000000    -1.000000  NaN  \n",
       "75%      -1.000000    -1.000000    -1.000000    -1.000000  NaN  \n",
       "max       1.000000     1.000000     1.000000     0.592000  NaN  \n",
       "\n",
       "[8 rows x 258 columns]"
      ]
     },
     "execution_count": 6,
     "metadata": {},
     "output_type": "execute_result"
    }
   ],
   "source": [
    "train.describe()"
   ]
  },
  {
   "cell_type": "code",
   "execution_count": 19,
   "id": "1cd8b623",
   "metadata": {},
   "outputs": [],
   "source": [
    "X_test = test.iloc[:,1:]\n",
    "y_test = test.iloc[:,0]"
   ]
  },
  {
   "cell_type": "code",
   "execution_count": 22,
   "id": "5ff8fb20",
   "metadata": {},
   "outputs": [
    {
     "data": {
      "text/plain": [
       "200"
      ]
     },
     "execution_count": 22,
     "metadata": {},
     "output_type": "execute_result"
    }
   ],
   "source": [
    "len(y_test[y_test == 4])"
   ]
  },
  {
   "cell_type": "code",
   "execution_count": 14,
   "id": "74706a3d",
   "metadata": {},
   "outputs": [],
   "source": [
    "Y = train.iloc[:, 0]\n",
    "X = train.iloc[:, 1:-1]"
   ]
  },
  {
   "cell_type": "code",
   "execution_count": null,
   "id": "cff094d5",
   "metadata": {},
   "outputs": [],
   "source": []
  },
  {
   "cell_type": "code",
   "execution_count": 13,
   "id": "9f2a0ea9",
   "metadata": {},
   "outputs": [
    {
     "data": {
      "image/png": "[encoded data removed]",
      "text/plain": [
       "<Figure size 720x216 with 10 Axes>"
      ]
     },
     "metadata": {
      "needs_background": "light"
     },
     "output_type": "display_data"
    }
   ],
   "source": [
    "X = X.iloc[:400, 0:256].values\n",
    "fig, axes = plt.subplots(nrows=2, ncols=5, figsize=(10, 3))\n",
    "for i in range(10):\n",
    "    image = X[i * 40].reshape((16, 16))\n",
    "    axes[i // 5, i % 5].set_axis_off()\n",
    "    axes[i // 5, i % 5].imshow(image, cmap=plt.cm.gray_r)"
   ]
  },
  {
   "cell_type": "code",
   "execution_count": 15,
   "id": "c53c9647",
   "metadata": {},
   "outputs": [
    {
     "data": {
      "text/plain": [
       "LinearDiscriminantAnalysis()"
      ]
     },
     "execution_count": 15,
     "metadata": {},
     "output_type": "execute_result"
    }
   ],
   "source": [
    "dig_lda = LinearDiscriminantAnalysis()\n",
    "dig_lda.fit(X, Y)"
   ]
  },
  {
   "cell_type": "code",
   "execution_count": 24,
   "id": "1e0c70aa",
   "metadata": {},
   "outputs": [
    {
     "data": {
      "text/plain": [
       "array([[342,   0,   7,   3,   1,   6,   1,   0,   5,   0],\n",
       "       [  0, 251,   2,   0,   4,   0,   0,   1,   0,   0],\n",
       "       [  0,   0, 157,   3,   6,   0,   3,   0,   2,   0],\n",
       "       [  4,   2,   4, 142,   0,  16,   0,   2,  11,   0],\n",
       "       [  3,   5,  12,   3, 174,   3,   3,   7,   7,   4],\n",
       "       [  1,   0,   2,   9,   0, 125,   3,   0,   4,   0],\n",
       "       [  5,   3,   1,   0,   2,   0, 157,   0,   0,   0],\n",
       "       [  0,   0,   1,   1,   2,   0,   0, 129,   0,   5],\n",
       "       [  3,   1,  12,   4,   1,   5,   3,   1, 135,   3],\n",
       "       [  1,   2,   0,   1,  10,   5,   0,   7,   2, 165]])"
      ]
     },
     "execution_count": 24,
     "metadata": {},
     "output_type": "execute_result"
    }
   ],
   "source": [
    "Y_pred = dig_lda.predict(X_test)\n",
    "confusion_matrix(Y_pred, y_test)"
   ]
  },
  {
   "cell_type": "code",
   "execution_count": 33,
   "id": "f58310b4",
   "metadata": {},
   "outputs": [
    {
     "data": {
      "text/plain": [
       "221"
      ]
     },
     "execution_count": 33,
     "metadata": {},
     "output_type": "execute_result"
    }
   ],
   "source": [
    "np.sum(confusion_matrix(Y_pred, y_test)[4])"
   ]
  },
  {
   "cell_type": "code",
   "execution_count": 25,
   "id": "c2524acb",
   "metadata": {},
   "outputs": [
    {
     "data": {
      "text/plain": [
       "array([9., 6., 3., ..., 4., 0., 1.])"
      ]
     },
     "execution_count": 25,
     "metadata": {},
     "output_type": "execute_result"
    }
   ],
   "source": [
    "Y_pred"
   ]
  },
  {
   "cell_type": "code",
   "execution_count": 27,
   "id": "b43f6580",
   "metadata": {},
   "outputs": [
    {
     "data": {
      "text/plain": [
       "array([9, 6, 3, ..., 4, 0, 1])"
      ]
     },
     "execution_count": 27,
     "metadata": {},
     "output_type": "execute_result"
    }
   ],
   "source": [
    "y_test.to_numpy()"
   ]
  },
  {
   "cell_type": "code",
   "execution_count": 28,
   "id": "2e775bdb",
   "metadata": {},
   "outputs": [
    {
     "data": {
      "text/plain": [
       "177"
      ]
     },
     "execution_count": 28,
     "metadata": {},
     "output_type": "execute_result"
    }
   ],
   "source": [
    "len(y_test[y_test == 9])"
   ]
  },
  {
   "cell_type": "code",
   "execution_count": 29,
   "id": "8e72f53c",
   "metadata": {},
   "outputs": [
    {
     "data": {
      "text/plain": [
       "221"
      ]
     },
     "execution_count": 29,
     "metadata": {},
     "output_type": "execute_result"
    }
   ],
   "source": [
    "len(Y_pred[Y_pred == 4])"
   ]
  },
  {
   "cell_type": "code",
   "execution_count": 34,
   "id": "d4f3aa45",
   "metadata": {},
   "outputs": [
    {
     "data": {
      "text/plain": [
       "47"
      ]
     },
     "execution_count": 34,
     "metadata": {},
     "output_type": "execute_result"
    }
   ],
   "source": [
    "221-174"
   ]
  },
  {
   "cell_type": "code",
   "execution_count": 39,
   "id": "06014021",
   "metadata": {},
   "outputs": [
    {
     "data": {
      "text/plain": [
       "6"
      ]
     },
     "execution_count": 39,
     "metadata": {},
     "output_type": "execute_result"
    }
   ],
   "source": [
    "y_test.iloc[3]"
   ]
  },
  {
   "cell_type": "code",
   "execution_count": 40,
   "id": "f787bb73",
   "metadata": {},
   "outputs": [
    {
     "data": {
      "text/html": [
       "<div>\n",
       "<style scoped>\n",
       "    .dataframe tbody tr th:only-of-type {\n",
       "        vertical-align: middle;\n",
       "    }\n",
       "\n",
       "    .dataframe tbody tr th {\n",
       "        vertical-align: top;\n",
       "    }\n",
       "\n",
       "    .dataframe thead th {\n",
       "        text-align: right;\n",
       "    }\n",
       "</style>\n",
       "<table border=\"1\" class=\"dataframe\">\n",
       "  <thead>\n",
       "    <tr style=\"text-align: right;\">\n",
       "      <th></th>\n",
       "      <th>1</th>\n",
       "      <th>2</th>\n",
       "      <th>3</th>\n",
       "      <th>4</th>\n",
       "      <th>5</th>\n",
       "      <th>6</th>\n",
       "      <th>7</th>\n",
       "      <th>8</th>\n",
       "      <th>9</th>\n",
       "      <th>10</th>\n",
       "      <th>...</th>\n",
       "      <th>247</th>\n",
       "      <th>248</th>\n",
       "      <th>249</th>\n",
       "      <th>250</th>\n",
       "      <th>251</th>\n",
       "      <th>252</th>\n",
       "      <th>253</th>\n",
       "      <th>254</th>\n",
       "      <th>255</th>\n",
       "      <th>256</th>\n",
       "    </tr>\n",
       "  </thead>\n",
       "  <tbody>\n",
       "    <tr>\n",
       "      <th>0</th>\n",
       "      <td>-1.0</td>\n",
       "      <td>-1.0</td>\n",
       "      <td>-1.0</td>\n",
       "      <td>-1.000</td>\n",
       "      <td>-1.000</td>\n",
       "      <td>-0.948</td>\n",
       "      <td>-0.561</td>\n",
       "      <td>0.148</td>\n",
       "      <td>0.384</td>\n",
       "      <td>0.904</td>\n",
       "      <td>...</td>\n",
       "      <td>-1.000</td>\n",
       "      <td>-0.908</td>\n",
       "      <td>0.430</td>\n",
       "      <td>0.622</td>\n",
       "      <td>-0.973</td>\n",
       "      <td>-1.000</td>\n",
       "      <td>-1.0</td>\n",
       "      <td>-1.0</td>\n",
       "      <td>-1.0</td>\n",
       "      <td>-1.0</td>\n",
       "    </tr>\n",
       "    <tr>\n",
       "      <th>1</th>\n",
       "      <td>-1.0</td>\n",
       "      <td>-1.0</td>\n",
       "      <td>-1.0</td>\n",
       "      <td>-1.000</td>\n",
       "      <td>-1.000</td>\n",
       "      <td>-1.000</td>\n",
       "      <td>-1.000</td>\n",
       "      <td>-1.000</td>\n",
       "      <td>-1.000</td>\n",
       "      <td>-1.000</td>\n",
       "      <td>...</td>\n",
       "      <td>-1.000</td>\n",
       "      <td>-1.000</td>\n",
       "      <td>-1.000</td>\n",
       "      <td>-1.000</td>\n",
       "      <td>-1.000</td>\n",
       "      <td>-1.000</td>\n",
       "      <td>-1.0</td>\n",
       "      <td>-1.0</td>\n",
       "      <td>-1.0</td>\n",
       "      <td>-1.0</td>\n",
       "    </tr>\n",
       "    <tr>\n",
       "      <th>2</th>\n",
       "      <td>-1.0</td>\n",
       "      <td>-1.0</td>\n",
       "      <td>-1.0</td>\n",
       "      <td>-0.593</td>\n",
       "      <td>0.700</td>\n",
       "      <td>1.000</td>\n",
       "      <td>1.000</td>\n",
       "      <td>1.000</td>\n",
       "      <td>1.000</td>\n",
       "      <td>0.853</td>\n",
       "      <td>...</td>\n",
       "      <td>1.000</td>\n",
       "      <td>0.717</td>\n",
       "      <td>0.333</td>\n",
       "      <td>0.162</td>\n",
       "      <td>-0.393</td>\n",
       "      <td>-1.000</td>\n",
       "      <td>-1.0</td>\n",
       "      <td>-1.0</td>\n",
       "      <td>-1.0</td>\n",
       "      <td>-1.0</td>\n",
       "    </tr>\n",
       "    <tr>\n",
       "      <th>3</th>\n",
       "      <td>-1.0</td>\n",
       "      <td>-1.0</td>\n",
       "      <td>-1.0</td>\n",
       "      <td>-1.000</td>\n",
       "      <td>-1.000</td>\n",
       "      <td>-1.000</td>\n",
       "      <td>-1.000</td>\n",
       "      <td>-1.000</td>\n",
       "      <td>-1.000</td>\n",
       "      <td>-1.000</td>\n",
       "      <td>...</td>\n",
       "      <td>-1.000</td>\n",
       "      <td>-1.000</td>\n",
       "      <td>-1.000</td>\n",
       "      <td>-1.000</td>\n",
       "      <td>-1.000</td>\n",
       "      <td>-1.000</td>\n",
       "      <td>-1.0</td>\n",
       "      <td>-1.0</td>\n",
       "      <td>-1.0</td>\n",
       "      <td>-1.0</td>\n",
       "    </tr>\n",
       "    <tr>\n",
       "      <th>4</th>\n",
       "      <td>-1.0</td>\n",
       "      <td>-1.0</td>\n",
       "      <td>-1.0</td>\n",
       "      <td>-1.000</td>\n",
       "      <td>-1.000</td>\n",
       "      <td>-1.000</td>\n",
       "      <td>-1.000</td>\n",
       "      <td>-0.858</td>\n",
       "      <td>-0.106</td>\n",
       "      <td>0.802</td>\n",
       "      <td>...</td>\n",
       "      <td>0.901</td>\n",
       "      <td>0.901</td>\n",
       "      <td>0.901</td>\n",
       "      <td>0.290</td>\n",
       "      <td>-0.369</td>\n",
       "      <td>-0.867</td>\n",
       "      <td>-1.0</td>\n",
       "      <td>-1.0</td>\n",
       "      <td>-1.0</td>\n",
       "      <td>-1.0</td>\n",
       "    </tr>\n",
       "    <tr>\n",
       "      <th>...</th>\n",
       "      <td>...</td>\n",
       "      <td>...</td>\n",
       "      <td>...</td>\n",
       "      <td>...</td>\n",
       "      <td>...</td>\n",
       "      <td>...</td>\n",
       "      <td>...</td>\n",
       "      <td>...</td>\n",
       "      <td>...</td>\n",
       "      <td>...</td>\n",
       "      <td>...</td>\n",
       "      <td>...</td>\n",
       "      <td>...</td>\n",
       "      <td>...</td>\n",
       "      <td>...</td>\n",
       "      <td>...</td>\n",
       "      <td>...</td>\n",
       "      <td>...</td>\n",
       "      <td>...</td>\n",
       "      <td>...</td>\n",
       "      <td>...</td>\n",
       "    </tr>\n",
       "    <tr>\n",
       "      <th>2002</th>\n",
       "      <td>-1.0</td>\n",
       "      <td>-1.0</td>\n",
       "      <td>-1.0</td>\n",
       "      <td>-1.000</td>\n",
       "      <td>-1.000</td>\n",
       "      <td>-0.417</td>\n",
       "      <td>0.814</td>\n",
       "      <td>1.000</td>\n",
       "      <td>0.775</td>\n",
       "      <td>-0.723</td>\n",
       "      <td>...</td>\n",
       "      <td>1.000</td>\n",
       "      <td>1.000</td>\n",
       "      <td>0.554</td>\n",
       "      <td>0.184</td>\n",
       "      <td>-0.484</td>\n",
       "      <td>-1.000</td>\n",
       "      <td>-1.0</td>\n",
       "      <td>-1.0</td>\n",
       "      <td>-1.0</td>\n",
       "      <td>-1.0</td>\n",
       "    </tr>\n",
       "    <tr>\n",
       "      <th>2003</th>\n",
       "      <td>-1.0</td>\n",
       "      <td>-1.0</td>\n",
       "      <td>-1.0</td>\n",
       "      <td>-1.000</td>\n",
       "      <td>-1.000</td>\n",
       "      <td>-1.000</td>\n",
       "      <td>-0.855</td>\n",
       "      <td>0.209</td>\n",
       "      <td>0.941</td>\n",
       "      <td>0.809</td>\n",
       "      <td>...</td>\n",
       "      <td>-1.000</td>\n",
       "      <td>0.319</td>\n",
       "      <td>1.000</td>\n",
       "      <td>0.056</td>\n",
       "      <td>-1.000</td>\n",
       "      <td>-1.000</td>\n",
       "      <td>-1.0</td>\n",
       "      <td>-1.0</td>\n",
       "      <td>-1.0</td>\n",
       "      <td>-1.0</td>\n",
       "    </tr>\n",
       "    <tr>\n",
       "      <th>2004</th>\n",
       "      <td>-1.0</td>\n",
       "      <td>-1.0</td>\n",
       "      <td>-1.0</td>\n",
       "      <td>-1.000</td>\n",
       "      <td>-0.031</td>\n",
       "      <td>0.752</td>\n",
       "      <td>-0.431</td>\n",
       "      <td>-1.000</td>\n",
       "      <td>-1.000</td>\n",
       "      <td>-1.000</td>\n",
       "      <td>...</td>\n",
       "      <td>1.000</td>\n",
       "      <td>0.928</td>\n",
       "      <td>-0.393</td>\n",
       "      <td>-1.000</td>\n",
       "      <td>-1.000</td>\n",
       "      <td>-1.000</td>\n",
       "      <td>-1.0</td>\n",
       "      <td>-1.0</td>\n",
       "      <td>-1.0</td>\n",
       "      <td>-1.0</td>\n",
       "    </tr>\n",
       "    <tr>\n",
       "      <th>2005</th>\n",
       "      <td>-1.0</td>\n",
       "      <td>-1.0</td>\n",
       "      <td>-1.0</td>\n",
       "      <td>-1.000</td>\n",
       "      <td>-0.534</td>\n",
       "      <td>0.578</td>\n",
       "      <td>1.000</td>\n",
       "      <td>0.301</td>\n",
       "      <td>-0.328</td>\n",
       "      <td>-0.939</td>\n",
       "      <td>...</td>\n",
       "      <td>1.000</td>\n",
       "      <td>0.430</td>\n",
       "      <td>0.200</td>\n",
       "      <td>-0.061</td>\n",
       "      <td>-0.975</td>\n",
       "      <td>-1.000</td>\n",
       "      <td>-1.0</td>\n",
       "      <td>-1.0</td>\n",
       "      <td>-1.0</td>\n",
       "      <td>-1.0</td>\n",
       "    </tr>\n",
       "    <tr>\n",
       "      <th>2006</th>\n",
       "      <td>-1.0</td>\n",
       "      <td>-1.0</td>\n",
       "      <td>-1.0</td>\n",
       "      <td>-1.000</td>\n",
       "      <td>-1.000</td>\n",
       "      <td>-1.000</td>\n",
       "      <td>-1.000</td>\n",
       "      <td>0.399</td>\n",
       "      <td>0.949</td>\n",
       "      <td>-0.399</td>\n",
       "      <td>...</td>\n",
       "      <td>-1.000</td>\n",
       "      <td>-0.505</td>\n",
       "      <td>0.907</td>\n",
       "      <td>0.655</td>\n",
       "      <td>-0.950</td>\n",
       "      <td>-1.000</td>\n",
       "      <td>-1.0</td>\n",
       "      <td>-1.0</td>\n",
       "      <td>-1.0</td>\n",
       "      <td>-1.0</td>\n",
       "    </tr>\n",
       "  </tbody>\n",
       "</table>\n",
       "<p>2007 rows × 256 columns</p>\n",
       "</div>"
      ],
      "text/plain": [
       "      1    2    3      4      5      6      7      8      9      10   ...  \\\n",
       "0    -1.0 -1.0 -1.0 -1.000 -1.000 -0.948 -0.561  0.148  0.384  0.904  ...   \n",
       "1    -1.0 -1.0 -1.0 -1.000 -1.000 -1.000 -1.000 -1.000 -1.000 -1.000  ...   \n",
       "2    -1.0 -1.0 -1.0 -0.593  0.700  1.000  1.000  1.000  1.000  0.853  ...   \n",
       "3    -1.0 -1.0 -1.0 -1.000 -1.000 -1.000 -1.000 -1.000 -1.000 -1.000  ...   \n",
       "4    -1.0 -1.0 -1.0 -1.000 -1.000 -1.000 -1.000 -0.858 -0.106  0.802  ...   \n",
       "...   ...  ...  ...    ...    ...    ...    ...    ...    ...    ...  ...   \n",
       "2002 -1.0 -1.0 -1.0 -1.000 -1.000 -0.417  0.814  1.000  0.775 -0.723  ...   \n",
       "2003 -1.0 -1.0 -1.0 -1.000 -1.000 -1.000 -0.855  0.209  0.941  0.809  ...   \n",
       "2004 -1.0 -1.0 -1.0 -1.000 -0.031  0.752 -0.431 -1.000 -1.000 -1.000  ...   \n",
       "2005 -1.0 -1.0 -1.0 -1.000 -0.534  0.578  1.000  0.301 -0.328 -0.939  ...   \n",
       "2006 -1.0 -1.0 -1.0 -1.000 -1.000 -1.000 -1.000  0.399  0.949 -0.399  ...   \n",
       "\n",
       "        247    248    249    250    251    252  253  254  255  256  \n",
       "0    -1.000 -0.908  0.430  0.622 -0.973 -1.000 -1.0 -1.0 -1.0 -1.0  \n",
       "1    -1.000 -1.000 -1.000 -1.000 -1.000 -1.000 -1.0 -1.0 -1.0 -1.0  \n",
       "2     1.000  0.717  0.333  0.162 -0.393 -1.000 -1.0 -1.0 -1.0 -1.0  \n",
       "3    -1.000 -1.000 -1.000 -1.000 -1.000 -1.000 -1.0 -1.0 -1.0 -1.0  \n",
       "4     0.901  0.901  0.901  0.290 -0.369 -0.867 -1.0 -1.0 -1.0 -1.0  \n",
       "...     ...    ...    ...    ...    ...    ...  ...  ...  ...  ...  \n",
       "2002  1.000  1.000  0.554  0.184 -0.484 -1.000 -1.0 -1.0 -1.0 -1.0  \n",
       "2003 -1.000  0.319  1.000  0.056 -1.000 -1.000 -1.0 -1.0 -1.0 -1.0  \n",
       "2004  1.000  0.928 -0.393 -1.000 -1.000 -1.000 -1.0 -1.0 -1.0 -1.0  \n",
       "2005  1.000  0.430  0.200 -0.061 -0.975 -1.000 -1.0 -1.0 -1.0 -1.0  \n",
       "2006 -1.000 -0.505  0.907  0.655 -0.950 -1.000 -1.0 -1.0 -1.0 -1.0  \n",
       "\n",
       "[2007 rows x 256 columns]"
      ]
     },
     "execution_count": 40,
     "metadata": {},
     "output_type": "execute_result"
    }
   ],
   "source": [
    "X_test"
   ]
  },
  {
   "cell_type": "code",
   "execution_count": 43,
   "id": "74c1ed30",
   "metadata": {},
   "outputs": [
    {
     "data": {
      "text/html": [
       "<div>\n",
       "<style scoped>\n",
       "    .dataframe tbody tr th:only-of-type {\n",
       "        vertical-align: middle;\n",
       "    }\n",
       "\n",
       "    .dataframe tbody tr th {\n",
       "        vertical-align: top;\n",
       "    }\n",
       "\n",
       "    .dataframe thead th {\n",
       "        text-align: right;\n",
       "    }\n",
       "</style>\n",
       "<table border=\"1\" class=\"dataframe\">\n",
       "  <thead>\n",
       "    <tr style=\"text-align: right;\">\n",
       "      <th></th>\n",
       "      <th>1</th>\n",
       "      <th>2</th>\n",
       "      <th>3</th>\n",
       "      <th>4</th>\n",
       "      <th>5</th>\n",
       "      <th>6</th>\n",
       "      <th>7</th>\n",
       "      <th>8</th>\n",
       "      <th>9</th>\n",
       "      <th>10</th>\n",
       "      <th>...</th>\n",
       "      <th>247</th>\n",
       "      <th>248</th>\n",
       "      <th>249</th>\n",
       "      <th>250</th>\n",
       "      <th>251</th>\n",
       "      <th>252</th>\n",
       "      <th>253</th>\n",
       "      <th>254</th>\n",
       "      <th>255</th>\n",
       "      <th>256</th>\n",
       "    </tr>\n",
       "  </thead>\n",
       "  <tbody>\n",
       "    <tr>\n",
       "      <th>3</th>\n",
       "      <td>-1.0</td>\n",
       "      <td>-1.0</td>\n",
       "      <td>-1.0</td>\n",
       "      <td>-1.0</td>\n",
       "      <td>-1.0</td>\n",
       "      <td>-1.0</td>\n",
       "      <td>-1.0</td>\n",
       "      <td>-1.0</td>\n",
       "      <td>-1.0</td>\n",
       "      <td>-1.0</td>\n",
       "      <td>...</td>\n",
       "      <td>-1.0</td>\n",
       "      <td>-1.0</td>\n",
       "      <td>-1.0</td>\n",
       "      <td>-1.0</td>\n",
       "      <td>-1.0</td>\n",
       "      <td>-1.0</td>\n",
       "      <td>-1.0</td>\n",
       "      <td>-1.0</td>\n",
       "      <td>-1.0</td>\n",
       "      <td>-1.0</td>\n",
       "    </tr>\n",
       "  </tbody>\n",
       "</table>\n",
       "<p>1 rows × 256 columns</p>\n",
       "</div>"
      ],
      "text/plain": [
       "   1    2    3    4    5    6    7    8    9    10   ...  247  248  249  250  \\\n",
       "3 -1.0 -1.0 -1.0 -1.0 -1.0 -1.0 -1.0 -1.0 -1.0 -1.0  ... -1.0 -1.0 -1.0 -1.0   \n",
       "\n",
       "   251  252  253  254  255  256  \n",
       "3 -1.0 -1.0 -1.0 -1.0 -1.0 -1.0  \n",
       "\n",
       "[1 rows x 256 columns]"
      ]
     },
     "execution_count": 43,
     "metadata": {},
     "output_type": "execute_result"
    }
   ],
   "source": [
    "X_test.iloc[3:4,:]"
   ]
  },
  {
   "cell_type": "code",
   "execution_count": 44,
   "id": "b676f5d0",
   "metadata": {},
   "outputs": [
    {
     "data": {
      "text/plain": [
       "array([[5.91211400e-01, 5.66456601e-22, 3.76925680e-03, 6.54706021e-09,\n",
       "        6.91192214e-04, 4.69778806e-03, 3.99630345e-01, 4.91716076e-10,\n",
       "        8.44323068e-09, 2.13066832e-09]])"
      ]
     },
     "execution_count": 44,
     "metadata": {},
     "output_type": "execute_result"
    }
   ],
   "source": [
    "dig_lda.predict_proba(X_test.iloc[3:4,:])"
   ]
  },
  {
   "cell_type": "code",
   "execution_count": 45,
   "id": "e18b080d",
   "metadata": {},
   "outputs": [
    {
     "data": {
      "text/plain": [
       "array([0.])"
      ]
     },
     "execution_count": 45,
     "metadata": {},
     "output_type": "execute_result"
    }
   ],
   "source": [
    "dig_lda.predict(X_test.iloc[3:4,:])"
   ]
  },
  {
   "cell_type": "code",
   "execution_count": 47,
   "id": "4e4ef658",
   "metadata": {},
   "outputs": [
    {
     "data": {
      "text/plain": [
       "array([9., 6., 3., 0.])"
      ]
     },
     "execution_count": 47,
     "metadata": {},
     "output_type": "execute_result"
    }
   ],
   "source": [
    "Y_pred[:4]"
   ]
  },
  {
   "cell_type": "code",
   "execution_count": null,
   "id": "ea631a9b",
   "metadata": {},
   "outputs": [],
   "source": []
  }
 ],
 "metadata": {
  "kernelspec": {
   "display_name": "Python 3 (ipykernel)",
   "language": "python",
   "name": "python3"
  },
  "language_info": {
   "codemirror_mode": {
    "name": "ipython",
    "version": 3
   },
   "file_extension": ".py",
   "mimetype": "text/x-python",
   "name": "python",
   "nbconvert_exporter": "python",
   "pygments_lexer": "ipython3",
   "version": "3.8.10"
  }
 },
 "nbformat": 4,
 "nbformat_minor": 5
}
